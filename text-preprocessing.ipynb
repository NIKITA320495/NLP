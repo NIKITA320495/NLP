{
 "cells": [
  {
   "cell_type": "markdown",
   "id": "e74ee27a",
   "metadata": {
    "papermill": {
     "duration": 0.002821,
     "end_time": "2025-01-23T20:06:53.488998",
     "exception": false,
     "start_time": "2025-01-23T20:06:53.486177",
     "status": "completed"
    },
    "tags": []
   },
   "source": [
    "# **Text Preprocessing for NLP**\n",
    "\n",
    "## **Notebook Overview**  \n",
    "This notebook introduces essential text preprocessing techniques in Natural Language Processing (NLP), demonstrating how to clean and prepare raw text data for downstream tasks. Using the IMDb Movie Reviews Dataset, we will process raw reviews step by step to remove noise, extract meaningful tokens, and prepare data for machine learning models.\n",
    "\n",
    "---\n",
    "\n",
    "### **Objectives of the Notebook**  \n",
    "\n",
    "#### **1. Understand the Importance of Text Preprocessing:**  \n",
    "- Why preprocessing is necessary for NLP tasks.  \n",
    "- The impact of clean data on model performance.  \n",
    "\n",
    "#### **2. Learn Common Preprocessing Techniques:**  \n",
    "- **Text cleaning**: Removing noise, converting text to lowercase.  \n",
    "- **Tokenization**: Splitting sentences into words.  \n",
    "- **Removing stopwords**: Eliminating common words with low significance.  \n",
    "- **Stemming and lemmatization**: Reducing words to their root form.  \n",
    "- **Noise removal**: Removing URLs, numbers, and special characters.  \n",
    "\n",
    "#### **3. Apply Preprocessing to a Real Dataset:**  \n",
    "- Load and explore the IMDb Movie Reviews Dataset.  \n",
    "- Preprocess reviews step-by-step.  \n",
    "- Visualize results and compare preprocessed data to raw text.  \n",
    "\n",
    "---\n"
   ]
  },
  {
   "cell_type": "code",
   "execution_count": 1,
   "id": "f3d6404a",
   "metadata": {
    "_cell_guid": "b1076dfc-b9ad-4769-8c92-a6c4dae69d19",
    "_uuid": "8f2839f25d086af736a60e9eeb907d3b93b6e0e5",
    "execution": {
     "iopub.execute_input": "2025-01-23T20:06:53.495152Z",
     "iopub.status.busy": "2025-01-23T20:06:53.494813Z",
     "iopub.status.idle": "2025-01-23T20:06:54.488585Z",
     "shell.execute_reply": "2025-01-23T20:06:54.487462Z"
    },
    "papermill": {
     "duration": 0.999141,
     "end_time": "2025-01-23T20:06:54.490715",
     "exception": false,
     "start_time": "2025-01-23T20:06:53.491574",
     "status": "completed"
    },
    "tags": []
   },
   "outputs": [
    {
     "name": "stdout",
     "output_type": "stream",
     "text": [
      "/kaggle/input/imdb-dataset-of-50k-movie-reviews/IMDB Dataset.csv\n"
     ]
    }
   ],
   "source": [
    "# This Python 3 environment comes with many helpful analytics libraries installed\n",
    "# It is defined by the kaggle/python Docker image: https://github.com/kaggle/docker-python\n",
    "# For example, here's several helpful packages to load\n",
    "\n",
    "import numpy as np # linear algebra\n",
    "import pandas as pd # data processing, CSV file I/O (e.g. pd.read_csv)\n",
    "\n",
    "# Input data files are available in the read-only \"../input/\" directory\n",
    "# For example, running this (by clicking run or pressing Shift+Enter) will list all files under the input directory\n",
    "\n",
    "import os\n",
    "for dirname, _, filenames in os.walk('/kaggle/input'):\n",
    "    for filename in filenames:\n",
    "        print(os.path.join(dirname, filename))\n",
    "\n",
    "# You can write up to 20GB to the current directory (/kaggle/working/) that gets preserved as output when you create a version using \"Save & Run All\" \n",
    "# You can also write temporary files to /kaggle/temp/, but they won't be saved outside of the current session"
   ]
  },
  {
   "cell_type": "code",
   "execution_count": 2,
   "id": "31a6fb4c",
   "metadata": {
    "execution": {
     "iopub.execute_input": "2025-01-23T20:06:54.497067Z",
     "iopub.status.busy": "2025-01-23T20:06:54.496613Z",
     "iopub.status.idle": "2025-01-23T20:06:57.089465Z",
     "shell.execute_reply": "2025-01-23T20:06:57.088489Z"
    },
    "papermill": {
     "duration": 2.59763,
     "end_time": "2025-01-23T20:06:57.091159",
     "exception": false,
     "start_time": "2025-01-23T20:06:54.493529",
     "status": "completed"
    },
    "tags": []
   },
   "outputs": [
    {
     "name": "stdout",
     "output_type": "stream",
     "text": [
      "[nltk_data] Downloading package punkt to /usr/share/nltk_data...\n",
      "[nltk_data]   Package punkt is already up-to-date!\n"
     ]
    },
    {
     "data": {
      "text/plain": [
       "True"
      ]
     },
     "execution_count": 2,
     "metadata": {},
     "output_type": "execute_result"
    }
   ],
   "source": [
    "import re\n",
    "import nltk\n",
    "from nltk.corpus import stopwords\n",
    "from nltk.stem import PorterStemmer, WordNetLemmatizer\n",
    "nltk.download('punkt')"
   ]
  },
  {
   "cell_type": "markdown",
   "id": "73cdd9a0",
   "metadata": {
    "papermill": {
     "duration": 0.003447,
     "end_time": "2025-01-23T20:06:57.097320",
     "exception": false,
     "start_time": "2025-01-23T20:06:57.093873",
     "status": "completed"
    },
    "tags": []
   },
   "source": []
  },
  {
   "cell_type": "code",
   "execution_count": 3,
   "id": "aa7be527",
   "metadata": {
    "execution": {
     "iopub.execute_input": "2025-01-23T20:06:57.103374Z",
     "iopub.status.busy": "2025-01-23T20:06:57.102884Z",
     "iopub.status.idle": "2025-01-23T20:06:58.533945Z",
     "shell.execute_reply": "2025-01-23T20:06:58.532902Z"
    },
    "papermill": {
     "duration": 1.435851,
     "end_time": "2025-01-23T20:06:58.535579",
     "exception": false,
     "start_time": "2025-01-23T20:06:57.099728",
     "status": "completed"
    },
    "tags": []
   },
   "outputs": [
    {
     "data": {
      "text/html": [
       "<div>\n",
       "<style scoped>\n",
       "    .dataframe tbody tr th:only-of-type {\n",
       "        vertical-align: middle;\n",
       "    }\n",
       "\n",
       "    .dataframe tbody tr th {\n",
       "        vertical-align: top;\n",
       "    }\n",
       "\n",
       "    .dataframe thead th {\n",
       "        text-align: right;\n",
       "    }\n",
       "</style>\n",
       "<table border=\"1\" class=\"dataframe\">\n",
       "  <thead>\n",
       "    <tr style=\"text-align: right;\">\n",
       "      <th></th>\n",
       "      <th>review</th>\n",
       "      <th>sentiment</th>\n",
       "    </tr>\n",
       "  </thead>\n",
       "  <tbody>\n",
       "    <tr>\n",
       "      <th>0</th>\n",
       "      <td>One of the other reviewers has mentioned that ...</td>\n",
       "      <td>positive</td>\n",
       "    </tr>\n",
       "    <tr>\n",
       "      <th>1</th>\n",
       "      <td>A wonderful little production. &lt;br /&gt;&lt;br /&gt;The...</td>\n",
       "      <td>positive</td>\n",
       "    </tr>\n",
       "    <tr>\n",
       "      <th>2</th>\n",
       "      <td>I thought this was a wonderful way to spend ti...</td>\n",
       "      <td>positive</td>\n",
       "    </tr>\n",
       "    <tr>\n",
       "      <th>3</th>\n",
       "      <td>Basically there's a family where a little boy ...</td>\n",
       "      <td>negative</td>\n",
       "    </tr>\n",
       "    <tr>\n",
       "      <th>4</th>\n",
       "      <td>Petter Mattei's \"Love in the Time of Money\" is...</td>\n",
       "      <td>positive</td>\n",
       "    </tr>\n",
       "  </tbody>\n",
       "</table>\n",
       "</div>"
      ],
      "text/plain": [
       "                                              review sentiment\n",
       "0  One of the other reviewers has mentioned that ...  positive\n",
       "1  A wonderful little production. <br /><br />The...  positive\n",
       "2  I thought this was a wonderful way to spend ti...  positive\n",
       "3  Basically there's a family where a little boy ...  negative\n",
       "4  Petter Mattei's \"Love in the Time of Money\" is...  positive"
      ]
     },
     "execution_count": 3,
     "metadata": {},
     "output_type": "execute_result"
    }
   ],
   "source": [
    "df=pd.read_csv(\"/kaggle/input/imdb-dataset-of-50k-movie-reviews/IMDB Dataset.csv\")\n",
    "df.head()"
   ]
  },
  {
   "cell_type": "markdown",
   "id": "8c78fe50",
   "metadata": {
    "papermill": {
     "duration": 0.002606,
     "end_time": "2025-01-23T20:06:58.541168",
     "exception": false,
     "start_time": "2025-01-23T20:06:58.538562",
     "status": "completed"
    },
    "tags": []
   },
   "source": [
    "### Text normalization\n",
    "Text normalization standardizes the format of reviews by converting all text to lowercase, removing unwanted elements such as HTML tags (<br />), punctuation, and special characters. In the IMDb dataset, this step ensures uniformity, so variations like \"Great Movie!\" and \"great movie\" are treated the same.\n",
    "\n",
    "### Tokenization:\n",
    "Tokenization splits reviews into smaller units, such as words or sentences. For the IMDb dataset, word tokenization breaks reviews into individual words like [\"great\", \"movie\", \"!\"], while sentence tokenization divides long reviews into manageable sentences for better processing.\n",
    "\n",
    "### Stopword Removal:\n",
    "Stopwords are common words like \"is,\" \"the,\" and \"and\" that don't add significant meaning to the analysis. Removing stopwords from IMDb reviews focuses on meaningful words like \"amazing\" or \"boring,\" improving model performance by reducing noise.\n",
    "\n",
    "### Stemming and Lemmatization:\n",
    "These techniques reduce words to their root form. For example, \"playing,\" \"played,\" and \"plays\" are converted to \"play.\" In the IMDb dataset, this step reduces vocabulary size and ensures consistent representation of similar words across reviews.\n",
    "\n"
   ]
  },
  {
   "cell_type": "code",
   "execution_count": 4,
   "id": "86200482",
   "metadata": {
    "execution": {
     "iopub.execute_input": "2025-01-23T20:06:58.547648Z",
     "iopub.status.busy": "2025-01-23T20:06:58.547239Z",
     "iopub.status.idle": "2025-01-23T20:31:53.199419Z",
     "shell.execute_reply": "2025-01-23T20:31:53.198318Z"
    },
    "papermill": {
     "duration": 1494.660234,
     "end_time": "2025-01-23T20:31:53.204087",
     "exception": false,
     "start_time": "2025-01-23T20:06:58.543853",
     "status": "completed"
    },
    "tags": []
   },
   "outputs": [
    {
     "data": {
      "text/plain": [
       "'onereviewmentionwatchozepisodhookrightexactlihappenbrbrfirstthingstruckozbrutalunflinchsceneviolencsetrightwordgotrustshowfainthearttimidshowpullpunchregarddrugsexviolenchardcorclassicusewordbrbrcalloznicknamgivenoswaldmaximumsecurstatepenitentarifocusmainliemeraldcitiexperimentsectionprisoncellglassfrontfaceinwardprivacihighagendaemcitihomemaniaryanmuslimgangstalatinochristianitalianirishscuffldeathstaredodgidealshadiagreementneverfarawaybrbrwouldsaymainappealshowduefactgoeshowdareforgetprettipicturpaintmainstreamaudiencforgetcharmforgetromancozmessaroundfirstepisodeversawstrucknastisurrealsayreadiwatchdeveloptastozgotaccustomhighlevelgraphicviolencviolencinjusticcrookguardsoldnickelinmatkillordergetawaywellmannermiddlclassinmatturnprisonbitchduelackstreetskillprisonexperiwatchozmaybecomcomfortuncomfortviewthatgettouchdarkerside'"
      ]
     },
     "execution_count": 4,
     "metadata": {},
     "output_type": "execute_result"
    }
   ],
   "source": [
    "corpus=[]\n",
    "stemmer=PorterStemmer()\n",
    "for review in df['review']:\n",
    "    review=re.sub('[^a-zA-Z]',' ',review)\n",
    "    review=review.lower().split()\n",
    "    review=[stemmer.stem(word) for word in review if word not in stopwords.words('english')]\n",
    "    review=''.join(review)\n",
    "    corpus.append(review)\n",
    "corpus[0]"
   ]
  },
  {
   "cell_type": "code",
   "execution_count": null,
   "id": "e23dc3ff",
   "metadata": {
    "papermill": {
     "duration": 0.002384,
     "end_time": "2025-01-23T20:31:53.209345",
     "exception": false,
     "start_time": "2025-01-23T20:31:53.206961",
     "status": "completed"
    },
    "tags": []
   },
   "outputs": [],
   "source": []
  }
 ],
 "metadata": {
  "kaggle": {
   "accelerator": "none",
   "dataSources": [
    {
     "datasetId": 134715,
     "sourceId": 320111,
     "sourceType": "datasetVersion"
    }
   ],
   "dockerImageVersionId": 30839,
   "isGpuEnabled": false,
   "isInternetEnabled": true,
   "language": "python",
   "sourceType": "notebook"
  },
  "kernelspec": {
   "display_name": "Python 3",
   "language": "python",
   "name": "python3"
  },
  "language_info": {
   "codemirror_mode": {
    "name": "ipython",
    "version": 3
   },
   "file_extension": ".py",
   "mimetype": "text/x-python",
   "name": "python",
   "nbconvert_exporter": "python",
   "pygments_lexer": "ipython3",
   "version": "3.10.12"
  },
  "papermill": {
   "default_parameters": {},
   "duration": 1503.149698,
   "end_time": "2025-01-23T20:31:53.933724",
   "environment_variables": {},
   "exception": null,
   "input_path": "__notebook__.ipynb",
   "output_path": "__notebook__.ipynb",
   "parameters": {},
   "start_time": "2025-01-23T20:06:50.784026",
   "version": "2.6.0"
  }
 },
 "nbformat": 4,
 "nbformat_minor": 5
}
