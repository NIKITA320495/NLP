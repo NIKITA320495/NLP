{
 "cells": [
  {
   "cell_type": "markdown",
   "id": "1a241604",
   "metadata": {
    "papermill": {
     "duration": 0.004945,
     "end_time": "2025-01-25T14:30:57.921114",
     "exception": false,
     "start_time": "2025-01-25T14:30:57.916169",
     "status": "completed"
    },
    "tags": []
   },
   "source": [
    "### TF-IDF from Scratch\n",
    "\n",
    "#### **Formulas**\n",
    "\n",
    "1. **Term Frequency (TF)**  \n",
    "   Measures how often a term \\( t \\) appears in a document \\( d \\):  \n",
    "   tf(t,d) = count of t in d / number of words in d¶\n",
    "\n",
    "2. **Document Frequency (DF)**  \n",
    "   Counts the number of documents containing the term \\( t \\):  \n",
    "   df(t) = occurrence of t in documents\n",
    "\n",
    "3. **Inverse Document Frequency (IDF)**  \n",
    "   Reduces the weight of terms that appear frequently across all documents:  \n",
    "   idf(t) = log(N/(df + 1))\n",
    "\n",
    "4. **TF-IDF**  \n",
    "Combines TF and IDF to calculate the importance of a term \\( t \\) in a document \\( d \\):  \n",
    "   tf-idf(t, d) = tf(t, d) * log(N/(df + 1))\n",
    "\n",
    "---\n",
    "\n",
    "#### **Steps to Compute TF-IDF**\n",
    "\n",
    "1. **Calculate TF (Term Frequency)**  \n",
    "   For each term in a document, divide its frequency by the total number of words in the document.\n",
    "\n",
    "2. **Calculate DF (Document Frequency)**  \n",
    "   Count the number of documents in which each term appears.\n",
    "\n",
    "3. **Calculate IDF (Inverse Document Frequency)**  \n",
    "   Use the formula \\( IDF(t) = \\log\\left(\\frac{N}{DF(t) + 1}\\right) \\), where \\( N \\) is the total number of documents.\n",
    "\n",
    "4. **Compute TF-IDF**  \n",
    "   Multiply the TF of a term by its corresponding IDF value.\n",
    "\n",
    "---\n",
    "\n"
   ]
  },
  {
   "cell_type": "code",
   "execution_count": 1,
   "id": "3a42ab3f",
   "metadata": {
    "execution": {
     "iopub.execute_input": "2025-01-25T14:30:57.930795Z",
     "iopub.status.busy": "2025-01-25T14:30:57.930414Z",
     "iopub.status.idle": "2025-01-25T14:30:58.931246Z",
     "shell.execute_reply": "2025-01-25T14:30:58.930135Z"
    },
    "papermill": {
     "duration": 1.007818,
     "end_time": "2025-01-25T14:30:58.933189",
     "exception": false,
     "start_time": "2025-01-25T14:30:57.925371",
     "status": "completed"
    },
    "tags": []
   },
   "outputs": [],
   "source": [
    "# This Python 3 environment comes with many helpful analytics libraries installed\n",
    "# It is defined by the kaggle/python Docker image: https://github.com/kaggle/docker-python\n",
    "# For example, here's several helpful packages to load\n",
    "\n",
    "import numpy as np # linear algebra\n",
    "import pandas as pd # data processing, CSV file I/O (e.g. pd.read_csv)\n",
    "\n",
    "# Input data files are available in the read-only \"../input/\" directory\n",
    "# For example, running this (by clicking run or pressing Shift+Enter) will list all files under the input directory\n",
    "\n",
    "import os\n",
    "for dirname, _, filenames in os.walk('/kaggle/input'):\n",
    "    for filename in filenames:\n",
    "        print(os.path.join(dirname, filename))\n",
    "\n",
    "# You can write up to 20GB to the current directory (/kaggle/working/) that gets preserved as output when you create a version using \"Save & Run All\" \n",
    "# You can also write temporary files to /kaggle/temp/, but they won't be saved outside of the current session"
   ]
  },
  {
   "cell_type": "code",
   "execution_count": 2,
   "id": "ceabc93d",
   "metadata": {
    "execution": {
     "iopub.execute_input": "2025-01-25T14:30:58.942674Z",
     "iopub.status.busy": "2025-01-25T14:30:58.942226Z",
     "iopub.status.idle": "2025-01-25T14:31:01.656331Z",
     "shell.execute_reply": "2025-01-25T14:31:01.655231Z"
    },
    "papermill": {
     "duration": 2.720883,
     "end_time": "2025-01-25T14:31:01.658337",
     "exception": false,
     "start_time": "2025-01-25T14:30:58.937454",
     "status": "completed"
    },
    "tags": []
   },
   "outputs": [
    {
     "name": "stdout",
     "output_type": "stream",
     "text": [
      "[nltk_data] Downloading package punkt to /usr/share/nltk_data...\n",
      "[nltk_data]   Package punkt is already up-to-date!\n"
     ]
    },
    {
     "data": {
      "text/plain": [
       "True"
      ]
     },
     "execution_count": 2,
     "metadata": {},
     "output_type": "execute_result"
    }
   ],
   "source": [
    "from collections import Counter\n",
    "import nltk\n",
    "from nltk.corpus import stopwords\n",
    "import re\n",
    "from nltk.stem import PorterStemmer , WordNetLemmatizer\n",
    "nltk.download('punkt')"
   ]
  },
  {
   "cell_type": "code",
   "execution_count": 3,
   "id": "2853f009",
   "metadata": {
    "execution": {
     "iopub.execute_input": "2025-01-25T14:31:01.668342Z",
     "iopub.status.busy": "2025-01-25T14:31:01.667858Z",
     "iopub.status.idle": "2025-01-25T14:31:01.671988Z",
     "shell.execute_reply": "2025-01-25T14:31:01.671031Z"
    },
    "papermill": {
     "duration": 0.01074,
     "end_time": "2025-01-25T14:31:01.673645",
     "exception": false,
     "start_time": "2025-01-25T14:31:01.662905",
     "status": "completed"
    },
    "tags": []
   },
   "outputs": [],
   "source": [
    "corpus = [\n",
    "    \"The sky is blue and beautiful\",\n",
    "    \"Love this blue and beautiful sky\",\n",
    "    \"The quick brown fox jumps over the lazy dog\",\n",
    "    \"A king's breakfast has sausages, ham, bacon, eggs, toast, and beans\",\n",
    "    \"I love green eggs, ham, sausages, and bacon\",\n",
    "    \"The brown fox is quick and the blue dog is lazy\",\n",
    "    \"The sky is very blue and the sky is very beautiful today\",\n",
    "    \"The dog is lazy but the brown fox is quick\",\n",
    "]"
   ]
  },
  {
   "cell_type": "code",
   "execution_count": 4,
   "id": "992277b6",
   "metadata": {
    "execution": {
     "iopub.execute_input": "2025-01-25T14:31:01.682998Z",
     "iopub.status.busy": "2025-01-25T14:31:01.682678Z",
     "iopub.status.idle": "2025-01-25T14:31:01.687669Z",
     "shell.execute_reply": "2025-01-25T14:31:01.686920Z"
    },
    "papermill": {
     "duration": 0.011356,
     "end_time": "2025-01-25T14:31:01.689265",
     "exception": false,
     "start_time": "2025-01-25T14:31:01.677909",
     "status": "completed"
    },
    "tags": []
   },
   "outputs": [],
   "source": [
    "stemmer=PorterStemmer()\n",
    "def text_cleaning(corpus):\n",
    "    cleaned_corpus=[]\n",
    "    for review in corpus:\n",
    "        review=re.sub('[^a-zA-Z]',' ',review)\n",
    "        review=review.lower().split()\n",
    "        review=[stemmer.stem(word) for word in review if word not in stopwords.words('english')]\n",
    "        review=' '.join (review)\n",
    "        cleaned_corpus.append(review)\n",
    "    return cleaned_corpus        "
   ]
  },
  {
   "cell_type": "code",
   "execution_count": 5,
   "id": "c8f752a6",
   "metadata": {
    "execution": {
     "iopub.execute_input": "2025-01-25T14:31:01.698363Z",
     "iopub.status.busy": "2025-01-25T14:31:01.698104Z",
     "iopub.status.idle": "2025-01-25T14:31:01.718180Z",
     "shell.execute_reply": "2025-01-25T14:31:01.717167Z"
    },
    "papermill": {
     "duration": 0.026377,
     "end_time": "2025-01-25T14:31:01.719767",
     "exception": false,
     "start_time": "2025-01-25T14:31:01.693390",
     "status": "completed"
    },
    "tags": []
   },
   "outputs": [
    {
     "data": {
      "text/plain": [
       "['sky blue beauti',\n",
       " 'love blue beauti sky',\n",
       " 'quick brown fox jump lazi dog',\n",
       " 'king breakfast sausag ham bacon egg toast bean',\n",
       " 'love green egg ham sausag bacon',\n",
       " 'brown fox quick blue dog lazi',\n",
       " 'sky blue sky beauti today',\n",
       " 'dog lazi brown fox quick']"
      ]
     },
     "execution_count": 5,
     "metadata": {},
     "output_type": "execute_result"
    }
   ],
   "source": [
    "corpus=text_cleaning(corpus)\n",
    "corpus"
   ]
  },
  {
   "cell_type": "markdown",
   "id": "40ec5c8d",
   "metadata": {
    "papermill": {
     "duration": 0.004119,
     "end_time": "2025-01-25T14:31:01.728457",
     "exception": false,
     "start_time": "2025-01-25T14:31:01.724338",
     "status": "completed"
    },
    "tags": []
   },
   "source": [
    "## Computing Term Frequency"
   ]
  },
  {
   "cell_type": "code",
   "execution_count": 6,
   "id": "1002f401",
   "metadata": {
    "execution": {
     "iopub.execute_input": "2025-01-25T14:31:01.738092Z",
     "iopub.status.busy": "2025-01-25T14:31:01.737716Z",
     "iopub.status.idle": "2025-01-25T14:31:01.744771Z",
     "shell.execute_reply": "2025-01-25T14:31:01.743429Z"
    },
    "papermill": {
     "duration": 0.013703,
     "end_time": "2025-01-25T14:31:01.746434",
     "exception": false,
     "start_time": "2025-01-25T14:31:01.732731",
     "status": "completed"
    },
    "tags": []
   },
   "outputs": [
    {
     "data": {
      "text/plain": [
       "[['sky', 'blue', 'beauti'],\n",
       " ['love', 'blue', 'beauti', 'sky'],\n",
       " ['quick', 'brown', 'fox', 'jump', 'lazi', 'dog'],\n",
       " ['king', 'breakfast', 'sausag', 'ham', 'bacon', 'egg', 'toast', 'bean'],\n",
       " ['love', 'green', 'egg', 'ham', 'sausag', 'bacon'],\n",
       " ['brown', 'fox', 'quick', 'blue', 'dog', 'lazi'],\n",
       " ['sky', 'blue', 'sky', 'beauti', 'today'],\n",
       " ['dog', 'lazi', 'brown', 'fox', 'quick']]"
      ]
     },
     "execution_count": 6,
     "metadata": {},
     "output_type": "execute_result"
    }
   ],
   "source": [
    "tokenized_corpus = [sentence.split() for sentence in corpus]\n",
    "tokenized_corpus"
   ]
  },
  {
   "cell_type": "code",
   "execution_count": 7,
   "id": "dea27b68",
   "metadata": {
    "execution": {
     "iopub.execute_input": "2025-01-25T14:31:01.756453Z",
     "iopub.status.busy": "2025-01-25T14:31:01.756153Z",
     "iopub.status.idle": "2025-01-25T14:31:01.762726Z",
     "shell.execute_reply": "2025-01-25T14:31:01.761731Z"
    },
    "papermill": {
     "duration": 0.013501,
     "end_time": "2025-01-25T14:31:01.764432",
     "exception": false,
     "start_time": "2025-01-25T14:31:01.750931",
     "status": "completed"
    },
    "tags": []
   },
   "outputs": [
    {
     "name": "stdout",
     "output_type": "stream",
     "text": [
      "Counter({'sky': 1, 'blue': 1, 'beauti': 1})\n",
      "Counter({'love': 1, 'blue': 1, 'beauti': 1, 'sky': 1})\n",
      "Counter({'quick': 1, 'brown': 1, 'fox': 1, 'jump': 1, 'lazi': 1, 'dog': 1})\n",
      "Counter({'king': 1, 'breakfast': 1, 'sausag': 1, 'ham': 1, 'bacon': 1, 'egg': 1, 'toast': 1, 'bean': 1})\n",
      "Counter({'love': 1, 'green': 1, 'egg': 1, 'ham': 1, 'sausag': 1, 'bacon': 1})\n",
      "Counter({'brown': 1, 'fox': 1, 'quick': 1, 'blue': 1, 'dog': 1, 'lazi': 1})\n",
      "Counter({'sky': 2, 'blue': 1, 'beauti': 1, 'today': 1})\n",
      "Counter({'dog': 1, 'lazi': 1, 'brown': 1, 'fox': 1, 'quick': 1})\n"
     ]
    }
   ],
   "source": [
    "for sentence in tokenized_corpus:\n",
    "    print(Counter(sentence))"
   ]
  },
  {
   "cell_type": "code",
   "execution_count": 8,
   "id": "ab609673",
   "metadata": {
    "execution": {
     "iopub.execute_input": "2025-01-25T14:31:01.775021Z",
     "iopub.status.busy": "2025-01-25T14:31:01.774631Z",
     "iopub.status.idle": "2025-01-25T14:31:01.778855Z",
     "shell.execute_reply": "2025-01-25T14:31:01.777964Z"
    },
    "papermill": {
     "duration": 0.011378,
     "end_time": "2025-01-25T14:31:01.780611",
     "exception": false,
     "start_time": "2025-01-25T14:31:01.769233",
     "status": "completed"
    },
    "tags": []
   },
   "outputs": [],
   "source": [
    "def compute_tf(doc):\n",
    "    tf=Counter(doc)\n",
    "    total_terms=len(doc)\n",
    "    return {word: count/total_terms for word, count in tf.items()}"
   ]
  },
  {
   "cell_type": "code",
   "execution_count": 9,
   "id": "a4fe4c7f",
   "metadata": {
    "execution": {
     "iopub.execute_input": "2025-01-25T14:31:01.790760Z",
     "iopub.status.busy": "2025-01-25T14:31:01.790458Z",
     "iopub.status.idle": "2025-01-25T14:31:01.796915Z",
     "shell.execute_reply": "2025-01-25T14:31:01.795939Z"
    },
    "papermill": {
     "duration": 0.013258,
     "end_time": "2025-01-25T14:31:01.798500",
     "exception": false,
     "start_time": "2025-01-25T14:31:01.785242",
     "status": "completed"
    },
    "tags": []
   },
   "outputs": [
    {
     "data": {
      "text/plain": [
       "[{'sky': 0.3333333333333333,\n",
       "  'blue': 0.3333333333333333,\n",
       "  'beauti': 0.3333333333333333},\n",
       " {'love': 0.25, 'blue': 0.25, 'beauti': 0.25, 'sky': 0.25},\n",
       " {'quick': 0.16666666666666666,\n",
       "  'brown': 0.16666666666666666,\n",
       "  'fox': 0.16666666666666666,\n",
       "  'jump': 0.16666666666666666,\n",
       "  'lazi': 0.16666666666666666,\n",
       "  'dog': 0.16666666666666666},\n",
       " {'king': 0.125,\n",
       "  'breakfast': 0.125,\n",
       "  'sausag': 0.125,\n",
       "  'ham': 0.125,\n",
       "  'bacon': 0.125,\n",
       "  'egg': 0.125,\n",
       "  'toast': 0.125,\n",
       "  'bean': 0.125},\n",
       " {'love': 0.16666666666666666,\n",
       "  'green': 0.16666666666666666,\n",
       "  'egg': 0.16666666666666666,\n",
       "  'ham': 0.16666666666666666,\n",
       "  'sausag': 0.16666666666666666,\n",
       "  'bacon': 0.16666666666666666},\n",
       " {'brown': 0.16666666666666666,\n",
       "  'fox': 0.16666666666666666,\n",
       "  'quick': 0.16666666666666666,\n",
       "  'blue': 0.16666666666666666,\n",
       "  'dog': 0.16666666666666666,\n",
       "  'lazi': 0.16666666666666666},\n",
       " {'sky': 0.4, 'blue': 0.2, 'beauti': 0.2, 'today': 0.2},\n",
       " {'dog': 0.2, 'lazi': 0.2, 'brown': 0.2, 'fox': 0.2, 'quick': 0.2}]"
      ]
     },
     "execution_count": 9,
     "metadata": {},
     "output_type": "execute_result"
    }
   ],
   "source": [
    "tf_list = [compute_tf(doc) for doc in tokenized_corpus]\n",
    "tf_list"
   ]
  },
  {
   "cell_type": "markdown",
   "id": "c1c4272f",
   "metadata": {
    "papermill": {
     "duration": 0.004284,
     "end_time": "2025-01-25T14:31:01.807519",
     "exception": false,
     "start_time": "2025-01-25T14:31:01.803235",
     "status": "completed"
    },
    "tags": []
   },
   "source": [
    "## Computing Idf"
   ]
  },
  {
   "cell_type": "code",
   "execution_count": 10,
   "id": "f3f2e2ca",
   "metadata": {
    "execution": {
     "iopub.execute_input": "2025-01-25T14:31:01.817544Z",
     "iopub.status.busy": "2025-01-25T14:31:01.817249Z",
     "iopub.status.idle": "2025-01-25T14:31:01.823417Z",
     "shell.execute_reply": "2025-01-25T14:31:01.822280Z"
    },
    "papermill": {
     "duration": 0.013034,
     "end_time": "2025-01-25T14:31:01.825142",
     "exception": false,
     "start_time": "2025-01-25T14:31:01.812108",
     "status": "completed"
    },
    "tags": []
   },
   "outputs": [
    {
     "data": {
      "text/plain": [
       "{'bacon',\n",
       " 'bean',\n",
       " 'beauti',\n",
       " 'blue',\n",
       " 'breakfast',\n",
       " 'brown',\n",
       " 'dog',\n",
       " 'egg',\n",
       " 'fox',\n",
       " 'green',\n",
       " 'ham',\n",
       " 'jump',\n",
       " 'king',\n",
       " 'lazi',\n",
       " 'love',\n",
       " 'quick',\n",
       " 'sausag',\n",
       " 'sky',\n",
       " 'toast',\n",
       " 'today'}"
      ]
     },
     "execution_count": 10,
     "metadata": {},
     "output_type": "execute_result"
    }
   ],
   "source": [
    "all_words=set(word for doc in tokenized_corpus for word in doc)\n",
    "all_words"
   ]
  },
  {
   "cell_type": "code",
   "execution_count": 11,
   "id": "fae4aa13",
   "metadata": {
    "execution": {
     "iopub.execute_input": "2025-01-25T14:31:01.836143Z",
     "iopub.status.busy": "2025-01-25T14:31:01.835732Z",
     "iopub.status.idle": "2025-01-25T14:31:01.841395Z",
     "shell.execute_reply": "2025-01-25T14:31:01.840098Z"
    },
    "papermill": {
     "duration": 0.013136,
     "end_time": "2025-01-25T14:31:01.843170",
     "exception": false,
     "start_time": "2025-01-25T14:31:01.830034",
     "status": "completed"
    },
    "tags": []
   },
   "outputs": [],
   "source": [
    "def compute_idf(corpus):\n",
    "    n_docs=len(corpus)\n",
    "    all_words=set(word for doc in corpus for word in doc)\n",
    "    idf={}\n",
    "    for word in all_words:\n",
    "        containing_docs=sum(1 for doc in corpus if word in doc)\n",
    "        idf[word]=np.log(n_docs/(1+containing_docs))\n",
    "    return idf"
   ]
  },
  {
   "cell_type": "code",
   "execution_count": 12,
   "id": "6abab3e7",
   "metadata": {
    "execution": {
     "iopub.execute_input": "2025-01-25T14:31:01.854088Z",
     "iopub.status.busy": "2025-01-25T14:31:01.853721Z",
     "iopub.status.idle": "2025-01-25T14:31:01.859598Z",
     "shell.execute_reply": "2025-01-25T14:31:01.858797Z"
    },
    "papermill": {
     "duration": 0.012903,
     "end_time": "2025-01-25T14:31:01.861015",
     "exception": false,
     "start_time": "2025-01-25T14:31:01.848112",
     "status": "completed"
    },
    "tags": []
   },
   "outputs": [
    {
     "data": {
      "text/plain": [
       "{'ham': 0.9808292530117262,\n",
       " 'king': 1.3862943611198906,\n",
       " 'today': 1.3862943611198906,\n",
       " 'blue': 0.47000362924573563,\n",
       " 'bacon': 0.9808292530117262,\n",
       " 'toast': 1.3862943611198906,\n",
       " 'beauti': 0.6931471805599453,\n",
       " 'green': 1.3862943611198906,\n",
       " 'dog': 0.6931471805599453,\n",
       " 'sky': 0.6931471805599453,\n",
       " 'egg': 0.9808292530117262,\n",
       " 'breakfast': 1.3862943611198906,\n",
       " 'brown': 0.6931471805599453,\n",
       " 'sausag': 0.9808292530117262,\n",
       " 'quick': 0.6931471805599453,\n",
       " 'fox': 0.6931471805599453,\n",
       " 'love': 0.9808292530117262,\n",
       " 'jump': 1.3862943611198906,\n",
       " 'lazi': 0.6931471805599453,\n",
       " 'bean': 1.3862943611198906}"
      ]
     },
     "execution_count": 12,
     "metadata": {},
     "output_type": "execute_result"
    }
   ],
   "source": [
    "idf=compute_idf(tokenized_corpus)\n",
    "idf"
   ]
  },
  {
   "cell_type": "markdown",
   "id": "64001f46",
   "metadata": {
    "papermill": {
     "duration": 0.004688,
     "end_time": "2025-01-25T14:31:01.870656",
     "exception": false,
     "start_time": "2025-01-25T14:31:01.865968",
     "status": "completed"
    },
    "tags": []
   },
   "source": [
    "## Computing TfIdf"
   ]
  },
  {
   "cell_type": "code",
   "execution_count": 13,
   "id": "089a0d6d",
   "metadata": {
    "execution": {
     "iopub.execute_input": "2025-01-25T14:31:01.881284Z",
     "iopub.status.busy": "2025-01-25T14:31:01.880927Z",
     "iopub.status.idle": "2025-01-25T14:31:01.885029Z",
     "shell.execute_reply": "2025-01-25T14:31:01.884129Z"
    },
    "papermill": {
     "duration": 0.011107,
     "end_time": "2025-01-25T14:31:01.886438",
     "exception": false,
     "start_time": "2025-01-25T14:31:01.875331",
     "status": "completed"
    },
    "tags": []
   },
   "outputs": [],
   "source": [
    "def compute_tfidf(tf,idf):\n",
    "    tfidf={}\n",
    "    for word , tf_value in tf.items():\n",
    "        tfidf[word]=tf_value*idf[word]\n",
    "    return tfidf"
   ]
  },
  {
   "cell_type": "code",
   "execution_count": 14,
   "id": "efcdc7ba",
   "metadata": {
    "execution": {
     "iopub.execute_input": "2025-01-25T14:31:01.896795Z",
     "iopub.status.busy": "2025-01-25T14:31:01.896523Z",
     "iopub.status.idle": "2025-01-25T14:31:01.901709Z",
     "shell.execute_reply": "2025-01-25T14:31:01.900762Z"
    },
    "papermill": {
     "duration": 0.012028,
     "end_time": "2025-01-25T14:31:01.903327",
     "exception": false,
     "start_time": "2025-01-25T14:31:01.891299",
     "status": "completed"
    },
    "tags": []
   },
   "outputs": [
    {
     "data": {
      "text/plain": [
       "<generator object <genexpr> at 0x7e017c5e6b90>"
      ]
     },
     "execution_count": 14,
     "metadata": {},
     "output_type": "execute_result"
    }
   ],
   "source": [
    "tfidf_list=(compute_tfidf(tf,idf) for tf in tf_list)\n",
    "tfidf_list"
   ]
  },
  {
   "cell_type": "code",
   "execution_count": 15,
   "id": "d008d78f",
   "metadata": {
    "execution": {
     "iopub.execute_input": "2025-01-25T14:31:01.913985Z",
     "iopub.status.busy": "2025-01-25T14:31:01.913629Z",
     "iopub.status.idle": "2025-01-25T14:31:01.920187Z",
     "shell.execute_reply": "2025-01-25T14:31:01.919344Z"
    },
    "papermill": {
     "duration": 0.013469,
     "end_time": "2025-01-25T14:31:01.921694",
     "exception": false,
     "start_time": "2025-01-25T14:31:01.908225",
     "status": "completed"
    },
    "tags": []
   },
   "outputs": [
    {
     "name": "stdout",
     "output_type": "stream",
     "text": [
      "Document 1 TF-IDF:\n",
      "{'sky': 0.23104906018664842, 'blue': 0.1566678764152452, 'beauti': 0.23104906018664842}\n",
      "\n",
      "Document 2 TF-IDF:\n",
      "{'love': 0.24520731325293155, 'blue': 0.11750090731143391, 'beauti': 0.17328679513998632, 'sky': 0.17328679513998632}\n",
      "\n",
      "Document 3 TF-IDF:\n",
      "{'quick': 0.11552453009332421, 'brown': 0.11552453009332421, 'fox': 0.11552453009332421, 'jump': 0.23104906018664842, 'lazi': 0.11552453009332421, 'dog': 0.11552453009332421}\n",
      "\n",
      "Document 4 TF-IDF:\n",
      "{'king': 0.17328679513998632, 'breakfast': 0.17328679513998632, 'sausag': 0.12260365662646577, 'ham': 0.12260365662646577, 'bacon': 0.12260365662646577, 'egg': 0.12260365662646577, 'toast': 0.17328679513998632, 'bean': 0.17328679513998632}\n",
      "\n",
      "Document 5 TF-IDF:\n",
      "{'love': 0.16347154216862103, 'green': 0.23104906018664842, 'egg': 0.16347154216862103, 'ham': 0.16347154216862103, 'sausag': 0.16347154216862103, 'bacon': 0.16347154216862103}\n",
      "\n",
      "Document 6 TF-IDF:\n",
      "{'brown': 0.11552453009332421, 'fox': 0.11552453009332421, 'quick': 0.11552453009332421, 'blue': 0.0783339382076226, 'dog': 0.11552453009332421, 'lazi': 0.11552453009332421}\n",
      "\n",
      "Document 7 TF-IDF:\n",
      "{'sky': 0.2772588722239781, 'blue': 0.09400072584914713, 'beauti': 0.13862943611198905, 'today': 0.2772588722239781}\n",
      "\n",
      "Document 8 TF-IDF:\n",
      "{'dog': 0.13862943611198905, 'lazi': 0.13862943611198905, 'brown': 0.13862943611198905, 'fox': 0.13862943611198905, 'quick': 0.13862943611198905}\n",
      "\n"
     ]
    }
   ],
   "source": [
    "for i, tfidf in enumerate(tfidf_list):\n",
    "    print(f\"Document {i+1} TF-IDF:\\n{tfidf}\\n\")"
   ]
  },
  {
   "cell_type": "code",
   "execution_count": null,
   "id": "861271e5",
   "metadata": {
    "papermill": {
     "duration": 0.004787,
     "end_time": "2025-01-25T14:31:01.931709",
     "exception": false,
     "start_time": "2025-01-25T14:31:01.926922",
     "status": "completed"
    },
    "tags": []
   },
   "outputs": [],
   "source": []
  }
 ],
 "metadata": {
  "kaggle": {
   "accelerator": "none",
   "dataSources": [],
   "dockerImageVersionId": 30839,
   "isGpuEnabled": false,
   "isInternetEnabled": true,
   "language": "python",
   "sourceType": "notebook"
  },
  "kernelspec": {
   "display_name": "Python 3",
   "language": "python",
   "name": "python3"
  },
  "language_info": {
   "codemirror_mode": {
    "name": "ipython",
    "version": 3
   },
   "file_extension": ".py",
   "mimetype": "text/x-python",
   "name": "python",
   "nbconvert_exporter": "python",
   "pygments_lexer": "ipython3",
   "version": "3.10.12"
  },
  "papermill": {
   "default_parameters": {},
   "duration": 7.471495,
   "end_time": "2025-01-25T14:31:02.656088",
   "environment_variables": {},
   "exception": null,
   "input_path": "__notebook__.ipynb",
   "output_path": "__notebook__.ipynb",
   "parameters": {},
   "start_time": "2025-01-25T14:30:55.184593",
   "version": "2.6.0"
  }
 },
 "nbformat": 4,
 "nbformat_minor": 5
}
