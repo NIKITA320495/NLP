{
 "cells": [
  {
   "cell_type": "markdown",
   "id": "c3072049",
   "metadata": {
    "papermill": {
     "duration": 0.008133,
     "end_time": "2025-01-27T19:00:45.173659",
     "exception": false,
     "start_time": "2025-01-27T19:00:45.165526",
     "status": "completed"
    },
    "tags": []
   },
   "source": [
    "# Word2Vec from Scratch\n",
    "\n",
    "In this notebook, we will implement **Word2Vec** from scratch, a popular technique for learning distributed word representations. Word2Vec converts words into dense vector embeddings that capture semantic relationships based on the surrounding context in a text corpus. We will focus on both **CBOW** and **Skip-Gram** architecture.\n",
    "\n",
    "We will walk through the entire process:\n",
    "- **Preprocessing the corpus** to tokenize, clean, and build a vocabulary.\n",
    "- **Generating training data** for the model by creating target-context pairs.\n",
    "- **Initializing and training the model** by updating weights using the CBOW and  Skip-Gram approach.\n",
    "- **Extracting word embeddings** to visualize the learned word vectors.\n",
    "\n",
    "## What is Word2Vec?\n",
    "\n",
    "Word2Vec is a machine learning technique that transforms words into dense vector representations, capturing semantic relationships based on their context in a corpus. It uses two architectures: **Skip-Gram**, which predicts context words given a target word, and **CBOW (Continuous Bag of Words)**, which predicts a target word from surrounding context words. By training on large text data, Word2Vec learns embeddings where words with similar meanings are positioned closer in the vector space, enabling efficient natural language processing tasks like sentiment analysis, clustering, and recommendation systems.\n",
    "\n",
    "### CBOW (Continuous Bag of Words)\n",
    "The **Continuous Bag of Words (CBOW)** model is one of the two architectures in Word2Vec. It aims to predict a target word based on the surrounding context words. Here's how it works:\n",
    "1. **Context Window**: For a given target word, a context window is selected (typically a fixed number of words before and after the target word).\n",
    "2. **Prediction**: CBOW uses the context words (surrounding words) to predict the target word (center word). The model tries to maximize the probability of the target word, given the context.\n",
    "   \n",
    "For example, in the sentence **\"The cat sat on the mat,\"** if the target word is \"sat,\" the context words would be **[\"the\", \"cat\", \"on\", \"the\", \"mat\"]**. The model uses these context words to predict the word \"sat.\" \n",
    "\n",
    "This approach works well for smaller datasets and is efficient when the task involves predicting target words based on context.\n",
    "\n",
    "### Skip-Gram Model\n",
    "The **Skip-Gram** model is the second architecture in Word2Vec. Unlike CBOW, Skip-Gram tries to predict the context words based on a given target word. Instead of predicting a single target word from context, Skip-Gram focuses on maximizing the probability of context words given the target word. \n",
    "\n",
    "For example, using the same sentence **\"The cat sat on the mat,\"** if \"sat\" is the target word, the model tries to predict context words **[\"the\", \"cat\", \"on\", \"the\", \"mat\"]**. \n",
    "\n",
    "Skip-Gram is more effective in cases where we have large corpora and is particularly good at handling rare words by using context.\n",
    "\n",
    "### Key Differences Between CBOW and Skip-Gram\n",
    "- **CBOW** uses context words to predict the target word, making it faster for training and better for smaller datasets.\n",
    "- **Skip-Gram** predicts the context words based on the target word, which is more effective for large datasets and rare words.\n",
    "- **Training Efficiency**: CBOW is faster due to fewer weight updates as it predicts one word from the context, while Skip-Gram requires updating weights for multiple context words per target word.\n",
    "\n",
    "Both architectures aim to generate vector embeddings where words with similar meanings are placed closer in the vector space, and can be applied to a wide range of tasks like sentiment analysis, machine translation, and word similarity analysis.\n",
    "\n",
    "---\n",
    "\n",
    "In the upcoming sections of this notebook, we will implement both CBOW and Skip-Gram models from scratch, starting with preprocessing the dataset and building the vocabulary.\n"
   ]
  },
  {
   "cell_type": "code",
   "execution_count": 1,
   "id": "bc842ccd",
   "metadata": {
    "_cell_guid": "b1076dfc-b9ad-4769-8c92-a6c4dae69d19",
    "_uuid": "8f2839f25d086af736a60e9eeb907d3b93b6e0e5",
    "execution": {
     "iopub.execute_input": "2025-01-27T19:00:45.187574Z",
     "iopub.status.busy": "2025-01-27T19:00:45.187203Z",
     "iopub.status.idle": "2025-01-27T19:00:46.084956Z",
     "shell.execute_reply": "2025-01-27T19:00:46.083842Z"
    },
    "papermill": {
     "duration": 0.906748,
     "end_time": "2025-01-27T19:00:46.086878",
     "exception": false,
     "start_time": "2025-01-27T19:00:45.180130",
     "status": "completed"
    },
    "tags": []
   },
   "outputs": [],
   "source": [
    "# This Python 3 environment comes with many helpful analytics libraries installed\n",
    "# It is defined by the kaggle/python Docker image: https://github.com/kaggle/docker-python\n",
    "# For example, here's several helpful packages to load\n",
    "\n",
    "import numpy as np # linear algebra\n",
    "import pandas as pd # data processing, CSV file I/O (e.g. pd.read_csv)\n",
    "\n",
    "# Input data files are available in the read-only \"../input/\" directory\n",
    "# For example, running this (by clicking run or pressing Shift+Enter) will list all files under the input directory\n",
    "\n",
    "import os\n",
    "for dirname, _, filenames in os.walk('/kaggle/input'):\n",
    "    for filename in filenames:\n",
    "        print(os.path.join(dirname, filename))\n",
    "\n",
    "# You can write up to 20GB to the current directory (/kaggle/working/) that gets preserved as output when you create a version using \"Save & Run All\" \n",
    "# You can also write temporary files to /kaggle/temp/, but they won't be saved outside of the current session"
   ]
  },
  {
   "cell_type": "code",
   "execution_count": 2,
   "id": "79aecaba",
   "metadata": {
    "execution": {
     "iopub.execute_input": "2025-01-27T19:00:46.100867Z",
     "iopub.status.busy": "2025-01-27T19:00:46.100344Z",
     "iopub.status.idle": "2025-01-27T19:00:48.108157Z",
     "shell.execute_reply": "2025-01-27T19:00:48.107087Z"
    },
    "papermill": {
     "duration": 2.016573,
     "end_time": "2025-01-27T19:00:48.109963",
     "exception": false,
     "start_time": "2025-01-27T19:00:46.093390",
     "status": "completed"
    },
    "tags": []
   },
   "outputs": [],
   "source": [
    "import numpy as np\n",
    "from collections import Counter\n",
    "import nltk\n",
    "import re\n",
    "from nltk.stem import PorterStemmer\n",
    "from nltk.corpus import stopwords\n",
    "from sklearn.preprocessing import OneHotEncoder"
   ]
  },
  {
   "cell_type": "code",
   "execution_count": 3,
   "id": "2ff45d6d",
   "metadata": {
    "execution": {
     "iopub.execute_input": "2025-01-27T19:00:48.123851Z",
     "iopub.status.busy": "2025-01-27T19:00:48.123344Z",
     "iopub.status.idle": "2025-01-27T19:00:48.127667Z",
     "shell.execute_reply": "2025-01-27T19:00:48.126716Z"
    },
    "papermill": {
     "duration": 0.012945,
     "end_time": "2025-01-27T19:00:48.129300",
     "exception": false,
     "start_time": "2025-01-27T19:00:48.116355",
     "status": "completed"
    },
    "tags": []
   },
   "outputs": [],
   "source": [
    "corpus = [\n",
    "    \"The sky is blue and beautiful\",\n",
    "    \"Love this blue and beautiful sky\",\n",
    "    \"The quick brown fox jumps over the lazy dog\",\n",
    "    \"A king's breakfast has sausages, ham, bacon, eggs, toast, and beans\",\n",
    "    \"I love green eggs, ham, sausages, and bacon\",\n",
    "    \"The brown fox is quick and the blue dog is lazy\",\n",
    "    \"The sky is very blue and the sky is very beautiful today\",   \n",
    "]\n"
   ]
  },
  {
   "cell_type": "markdown",
   "id": "34aa6228",
   "metadata": {
    "papermill": {
     "duration": 0.005837,
     "end_time": "2025-01-27T19:00:48.141514",
     "exception": false,
     "start_time": "2025-01-27T19:00:48.135677",
     "status": "completed"
    },
    "tags": []
   },
   "source": [
    "## Text preprocessing"
   ]
  },
  {
   "cell_type": "code",
   "execution_count": 4,
   "id": "37e8956d",
   "metadata": {
    "execution": {
     "iopub.execute_input": "2025-01-27T19:00:48.155425Z",
     "iopub.status.busy": "2025-01-27T19:00:48.155077Z",
     "iopub.status.idle": "2025-01-27T19:00:48.160536Z",
     "shell.execute_reply": "2025-01-27T19:00:48.159589Z"
    },
    "papermill": {
     "duration": 0.014027,
     "end_time": "2025-01-27T19:00:48.162017",
     "exception": false,
     "start_time": "2025-01-27T19:00:48.147990",
     "status": "completed"
    },
    "tags": []
   },
   "outputs": [],
   "source": [
    "stemmer=PorterStemmer()\n",
    "def text_cleaning(corpus):\n",
    "    cleaned_corpus=[]\n",
    "    for review in corpus:\n",
    "        review=re.sub('[^a-zA-Z]',' ',review)\n",
    "        review=review.lower().split()\n",
    "        review=[stemmer.stem(word) for word in review if word not in stopwords.words('english')]\n",
    "        review=' '.join (review)\n",
    "        cleaned_corpus.append(review)\n",
    "    return cleaned_corpus  "
   ]
  },
  {
   "cell_type": "code",
   "execution_count": 5,
   "id": "ef6b7969",
   "metadata": {
    "execution": {
     "iopub.execute_input": "2025-01-27T19:00:48.176890Z",
     "iopub.status.busy": "2025-01-27T19:00:48.176515Z",
     "iopub.status.idle": "2025-01-27T19:00:48.197270Z",
     "shell.execute_reply": "2025-01-27T19:00:48.196201Z"
    },
    "papermill": {
     "duration": 0.029461,
     "end_time": "2025-01-27T19:00:48.198924",
     "exception": false,
     "start_time": "2025-01-27T19:00:48.169463",
     "status": "completed"
    },
    "tags": []
   },
   "outputs": [
    {
     "data": {
      "text/plain": [
       "['sky blue beauti',\n",
       " 'love blue beauti sky',\n",
       " 'quick brown fox jump lazi dog',\n",
       " 'king breakfast sausag ham bacon egg toast bean',\n",
       " 'love green egg ham sausag bacon',\n",
       " 'brown fox quick blue dog lazi',\n",
       " 'sky blue sky beauti today']"
      ]
     },
     "execution_count": 5,
     "metadata": {},
     "output_type": "execute_result"
    }
   ],
   "source": [
    "corpus=text_cleaning(corpus)\n",
    "corpus"
   ]
  },
  {
   "cell_type": "code",
   "execution_count": 6,
   "id": "07ea464b",
   "metadata": {
    "execution": {
     "iopub.execute_input": "2025-01-27T19:00:48.213805Z",
     "iopub.status.busy": "2025-01-27T19:00:48.213436Z",
     "iopub.status.idle": "2025-01-27T19:00:48.219643Z",
     "shell.execute_reply": "2025-01-27T19:00:48.218822Z"
    },
    "papermill": {
     "duration": 0.015255,
     "end_time": "2025-01-27T19:00:48.221063",
     "exception": false,
     "start_time": "2025-01-27T19:00:48.205808",
     "status": "completed"
    },
    "tags": []
   },
   "outputs": [
    {
     "data": {
      "text/plain": [
       "[['sky', 'blue', 'beauti'],\n",
       " ['love', 'blue', 'beauti', 'sky'],\n",
       " ['quick', 'brown', 'fox', 'jump', 'lazi', 'dog'],\n",
       " ['king', 'breakfast', 'sausag', 'ham', 'bacon', 'egg', 'toast', 'bean'],\n",
       " ['love', 'green', 'egg', 'ham', 'sausag', 'bacon'],\n",
       " ['brown', 'fox', 'quick', 'blue', 'dog', 'lazi'],\n",
       " ['sky', 'blue', 'sky', 'beauti', 'today']]"
      ]
     },
     "execution_count": 6,
     "metadata": {},
     "output_type": "execute_result"
    }
   ],
   "source": [
    "tokenized_corpus = [sentence.split() for sentence in corpus]\n",
    "tokenized_corpus"
   ]
  },
  {
   "cell_type": "code",
   "execution_count": 7,
   "id": "b1755ff0",
   "metadata": {
    "execution": {
     "iopub.execute_input": "2025-01-27T19:00:48.235134Z",
     "iopub.status.busy": "2025-01-27T19:00:48.234806Z",
     "iopub.status.idle": "2025-01-27T19:00:48.242727Z",
     "shell.execute_reply": "2025-01-27T19:00:48.239696Z"
    },
    "papermill": {
     "duration": 0.017223,
     "end_time": "2025-01-27T19:00:48.244785",
     "exception": false,
     "start_time": "2025-01-27T19:00:48.227562",
     "status": "completed"
    },
    "tags": []
   },
   "outputs": [
    {
     "name": "stdout",
     "output_type": "stream",
     "text": [
      "sky\n",
      "blue\n",
      "beauti\n",
      "love\n",
      "blue\n",
      "beauti\n",
      "sky\n",
      "quick\n",
      "brown\n",
      "fox\n",
      "jump\n",
      "lazi\n",
      "dog\n",
      "king\n",
      "breakfast\n",
      "sausag\n",
      "ham\n",
      "bacon\n",
      "egg\n",
      "toast\n",
      "bean\n",
      "love\n",
      "green\n",
      "egg\n",
      "ham\n",
      "sausag\n",
      "bacon\n",
      "brown\n",
      "fox\n",
      "quick\n",
      "blue\n",
      "dog\n",
      "lazi\n",
      "sky\n",
      "blue\n",
      "sky\n",
      "beauti\n",
      "today\n"
     ]
    }
   ],
   "source": [
    "for sentence in tokenized_corpus:\n",
    "    for word in sentence:\n",
    "        print (word)"
   ]
  },
  {
   "cell_type": "markdown",
   "id": "41ea1a7a",
   "metadata": {
    "papermill": {
     "duration": 0.006191,
     "end_time": "2025-01-27T19:00:48.257711",
     "exception": false,
     "start_time": "2025-01-27T19:00:48.251520",
     "status": "completed"
    },
    "tags": []
   },
   "source": [
    "## Building vocabulary"
   ]
  },
  {
   "cell_type": "code",
   "execution_count": 8,
   "id": "ad3c938b",
   "metadata": {
    "execution": {
     "iopub.execute_input": "2025-01-27T19:00:48.272336Z",
     "iopub.status.busy": "2025-01-27T19:00:48.271999Z",
     "iopub.status.idle": "2025-01-27T19:00:48.276726Z",
     "shell.execute_reply": "2025-01-27T19:00:48.275822Z"
    },
    "papermill": {
     "duration": 0.014137,
     "end_time": "2025-01-27T19:00:48.278332",
     "exception": false,
     "start_time": "2025-01-27T19:00:48.264195",
     "status": "completed"
    },
    "tags": []
   },
   "outputs": [],
   "source": [
    "def build_vocab(corpus):\n",
    "    # Flatten the corpus into one list and count the frequency of words\n",
    "    words = [word for sentence in corpus for word in sentence]\n",
    "    word_counts = Counter(words)\n",
    "    vocabulary = {word: idx for idx, (word, _) in enumerate(word_counts.items())}\n",
    "    return vocabulary, word_counts"
   ]
  },
  {
   "cell_type": "code",
   "execution_count": 9,
   "id": "80a24cb3",
   "metadata": {
    "execution": {
     "iopub.execute_input": "2025-01-27T19:00:48.292690Z",
     "iopub.status.busy": "2025-01-27T19:00:48.292308Z",
     "iopub.status.idle": "2025-01-27T19:00:48.296480Z",
     "shell.execute_reply": "2025-01-27T19:00:48.295539Z"
    },
    "papermill": {
     "duration": 0.013114,
     "end_time": "2025-01-27T19:00:48.298105",
     "exception": false,
     "start_time": "2025-01-27T19:00:48.284991",
     "status": "completed"
    },
    "tags": []
   },
   "outputs": [],
   "source": [
    "vocabulary, word_counts = build_vocab(tokenized_corpus)"
   ]
  },
  {
   "cell_type": "code",
   "execution_count": 10,
   "id": "c35a3f41",
   "metadata": {
    "execution": {
     "iopub.execute_input": "2025-01-27T19:00:48.312317Z",
     "iopub.status.busy": "2025-01-27T19:00:48.311978Z",
     "iopub.status.idle": "2025-01-27T19:00:48.317790Z",
     "shell.execute_reply": "2025-01-27T19:00:48.316979Z"
    },
    "papermill": {
     "duration": 0.014529,
     "end_time": "2025-01-27T19:00:48.319172",
     "exception": false,
     "start_time": "2025-01-27T19:00:48.304643",
     "status": "completed"
    },
    "tags": []
   },
   "outputs": [
    {
     "data": {
      "text/plain": [
       "Counter({'sky': 4,\n",
       "         'blue': 4,\n",
       "         'beauti': 3,\n",
       "         'love': 2,\n",
       "         'quick': 2,\n",
       "         'brown': 2,\n",
       "         'fox': 2,\n",
       "         'jump': 1,\n",
       "         'lazi': 2,\n",
       "         'dog': 2,\n",
       "         'king': 1,\n",
       "         'breakfast': 1,\n",
       "         'sausag': 2,\n",
       "         'ham': 2,\n",
       "         'bacon': 2,\n",
       "         'egg': 2,\n",
       "         'toast': 1,\n",
       "         'bean': 1,\n",
       "         'green': 1,\n",
       "         'today': 1})"
      ]
     },
     "execution_count": 10,
     "metadata": {},
     "output_type": "execute_result"
    }
   ],
   "source": [
    "word_counts"
   ]
  },
  {
   "cell_type": "code",
   "execution_count": 11,
   "id": "147c9827",
   "metadata": {
    "execution": {
     "iopub.execute_input": "2025-01-27T19:00:48.333660Z",
     "iopub.status.busy": "2025-01-27T19:00:48.333308Z",
     "iopub.status.idle": "2025-01-27T19:00:48.339077Z",
     "shell.execute_reply": "2025-01-27T19:00:48.338233Z"
    },
    "papermill": {
     "duration": 0.014495,
     "end_time": "2025-01-27T19:00:48.340517",
     "exception": false,
     "start_time": "2025-01-27T19:00:48.326022",
     "status": "completed"
    },
    "tags": []
   },
   "outputs": [
    {
     "data": {
      "text/plain": [
       "{'sky': 0,\n",
       " 'blue': 1,\n",
       " 'beauti': 2,\n",
       " 'love': 3,\n",
       " 'quick': 4,\n",
       " 'brown': 5,\n",
       " 'fox': 6,\n",
       " 'jump': 7,\n",
       " 'lazi': 8,\n",
       " 'dog': 9,\n",
       " 'king': 10,\n",
       " 'breakfast': 11,\n",
       " 'sausag': 12,\n",
       " 'ham': 13,\n",
       " 'bacon': 14,\n",
       " 'egg': 15,\n",
       " 'toast': 16,\n",
       " 'bean': 17,\n",
       " 'green': 18,\n",
       " 'today': 19}"
      ]
     },
     "execution_count": 11,
     "metadata": {},
     "output_type": "execute_result"
    }
   ],
   "source": [
    "vocabulary"
   ]
  },
  {
   "cell_type": "code",
   "execution_count": 12,
   "id": "0f5587a9",
   "metadata": {
    "execution": {
     "iopub.execute_input": "2025-01-27T19:00:48.355054Z",
     "iopub.status.busy": "2025-01-27T19:00:48.354725Z",
     "iopub.status.idle": "2025-01-27T19:00:48.360109Z",
     "shell.execute_reply": "2025-01-27T19:00:48.359119Z"
    },
    "papermill": {
     "duration": 0.01439,
     "end_time": "2025-01-27T19:00:48.361634",
     "exception": false,
     "start_time": "2025-01-27T19:00:48.347244",
     "status": "completed"
    },
    "tags": []
   },
   "outputs": [
    {
     "data": {
      "text/plain": [
       "20"
      ]
     },
     "execution_count": 12,
     "metadata": {},
     "output_type": "execute_result"
    }
   ],
   "source": [
    "vocab_size=len(vocabulary)\n",
    "vocab_size"
   ]
  },
  {
   "cell_type": "markdown",
   "id": "88edb7fc",
   "metadata": {
    "papermill": {
     "duration": 0.006601,
     "end_time": "2025-01-27T19:00:48.375159",
     "exception": false,
     "start_time": "2025-01-27T19:00:48.368558",
     "status": "completed"
    },
    "tags": []
   },
   "source": [
    "### Defining context_window and Embedding_dim"
   ]
  },
  {
   "cell_type": "code",
   "execution_count": 13,
   "id": "bcbfd8a3",
   "metadata": {
    "execution": {
     "iopub.execute_input": "2025-01-27T19:00:48.390635Z",
     "iopub.status.busy": "2025-01-27T19:00:48.390269Z",
     "iopub.status.idle": "2025-01-27T19:00:48.394499Z",
     "shell.execute_reply": "2025-01-27T19:00:48.393413Z"
    },
    "papermill": {
     "duration": 0.014035,
     "end_time": "2025-01-27T19:00:48.396115",
     "exception": false,
     "start_time": "2025-01-27T19:00:48.382080",
     "status": "completed"
    },
    "tags": []
   },
   "outputs": [],
   "source": [
    "context_window = 2  # Number of words around the target word\n",
    "embedding_dim = 5  # Dimensionality of the word embeddings"
   ]
  },
  {
   "cell_type": "markdown",
   "id": "c30502f7",
   "metadata": {
    "papermill": {
     "duration": 0.006638,
     "end_time": "2025-01-27T19:00:48.409649",
     "exception": false,
     "start_time": "2025-01-27T19:00:48.403011",
     "status": "completed"
    },
    "tags": []
   },
   "source": [
    "### One Hot Encoding"
   ]
  },
  {
   "cell_type": "code",
   "execution_count": 14,
   "id": "2b9f2902",
   "metadata": {
    "execution": {
     "iopub.execute_input": "2025-01-27T19:00:48.424484Z",
     "iopub.status.busy": "2025-01-27T19:00:48.424154Z",
     "iopub.status.idle": "2025-01-27T19:00:48.443898Z",
     "shell.execute_reply": "2025-01-27T19:00:48.442674Z"
    },
    "papermill": {
     "duration": 0.029382,
     "end_time": "2025-01-27T19:00:48.445728",
     "exception": false,
     "start_time": "2025-01-27T19:00:48.416346",
     "status": "completed"
    },
    "tags": []
   },
   "outputs": [
    {
     "name": "stderr",
     "output_type": "stream",
     "text": [
      "/usr/local/lib/python3.10/dist-packages/sklearn/preprocessing/_encoders.py:868: FutureWarning: `sparse` was renamed to `sparse_output` in version 1.2 and will be removed in 1.4. `sparse_output` is ignored unless you leave `sparse` to its default value.\n",
      "  warnings.warn(\n"
     ]
    },
    {
     "data": {
      "text/plain": [
       "array([[1., 0., 0., 0., 0., 0., 0., 0., 0., 0., 0., 0., 0., 0., 0., 0.,\n",
       "        0., 0., 0., 0.],\n",
       "       [0., 1., 0., 0., 0., 0., 0., 0., 0., 0., 0., 0., 0., 0., 0., 0.,\n",
       "        0., 0., 0., 0.],\n",
       "       [0., 0., 1., 0., 0., 0., 0., 0., 0., 0., 0., 0., 0., 0., 0., 0.,\n",
       "        0., 0., 0., 0.],\n",
       "       [0., 0., 0., 1., 0., 0., 0., 0., 0., 0., 0., 0., 0., 0., 0., 0.,\n",
       "        0., 0., 0., 0.],\n",
       "       [0., 0., 0., 0., 1., 0., 0., 0., 0., 0., 0., 0., 0., 0., 0., 0.,\n",
       "        0., 0., 0., 0.],\n",
       "       [0., 0., 0., 0., 0., 1., 0., 0., 0., 0., 0., 0., 0., 0., 0., 0.,\n",
       "        0., 0., 0., 0.],\n",
       "       [0., 0., 0., 0., 0., 0., 1., 0., 0., 0., 0., 0., 0., 0., 0., 0.,\n",
       "        0., 0., 0., 0.],\n",
       "       [0., 0., 0., 0., 0., 0., 0., 1., 0., 0., 0., 0., 0., 0., 0., 0.,\n",
       "        0., 0., 0., 0.],\n",
       "       [0., 0., 0., 0., 0., 0., 0., 0., 1., 0., 0., 0., 0., 0., 0., 0.,\n",
       "        0., 0., 0., 0.],\n",
       "       [0., 0., 0., 0., 0., 0., 0., 0., 0., 1., 0., 0., 0., 0., 0., 0.,\n",
       "        0., 0., 0., 0.],\n",
       "       [0., 0., 0., 0., 0., 0., 0., 0., 0., 0., 1., 0., 0., 0., 0., 0.,\n",
       "        0., 0., 0., 0.],\n",
       "       [0., 0., 0., 0., 0., 0., 0., 0., 0., 0., 0., 1., 0., 0., 0., 0.,\n",
       "        0., 0., 0., 0.],\n",
       "       [0., 0., 0., 0., 0., 0., 0., 0., 0., 0., 0., 0., 1., 0., 0., 0.,\n",
       "        0., 0., 0., 0.],\n",
       "       [0., 0., 0., 0., 0., 0., 0., 0., 0., 0., 0., 0., 0., 1., 0., 0.,\n",
       "        0., 0., 0., 0.],\n",
       "       [0., 0., 0., 0., 0., 0., 0., 0., 0., 0., 0., 0., 0., 0., 1., 0.,\n",
       "        0., 0., 0., 0.],\n",
       "       [0., 0., 0., 0., 0., 0., 0., 0., 0., 0., 0., 0., 0., 0., 0., 1.,\n",
       "        0., 0., 0., 0.],\n",
       "       [0., 0., 0., 0., 0., 0., 0., 0., 0., 0., 0., 0., 0., 0., 0., 0.,\n",
       "        1., 0., 0., 0.],\n",
       "       [0., 0., 0., 0., 0., 0., 0., 0., 0., 0., 0., 0., 0., 0., 0., 0.,\n",
       "        0., 1., 0., 0.],\n",
       "       [0., 0., 0., 0., 0., 0., 0., 0., 0., 0., 0., 0., 0., 0., 0., 0.,\n",
       "        0., 0., 1., 0.],\n",
       "       [0., 0., 0., 0., 0., 0., 0., 0., 0., 0., 0., 0., 0., 0., 0., 0.,\n",
       "        0., 0., 0., 1.]])"
      ]
     },
     "execution_count": 14,
     "metadata": {},
     "output_type": "execute_result"
    }
   ],
   "source": [
    "encoder=OneHotEncoder(sparse=False)\n",
    "encoded_vocab=encoder.fit_transform(np.array(list(vocabulary.values())).reshape(-1,1))\n",
    "encoded_vocab"
   ]
  },
  {
   "cell_type": "code",
   "execution_count": 15,
   "id": "0406381b",
   "metadata": {
    "execution": {
     "iopub.execute_input": "2025-01-27T19:00:48.461401Z",
     "iopub.status.busy": "2025-01-27T19:00:48.461010Z",
     "iopub.status.idle": "2025-01-27T19:00:48.475195Z",
     "shell.execute_reply": "2025-01-27T19:00:48.471772Z"
    },
    "papermill": {
     "duration": 0.023963,
     "end_time": "2025-01-27T19:00:48.477035",
     "exception": false,
     "start_time": "2025-01-27T19:00:48.453072",
     "status": "completed"
    },
    "tags": []
   },
   "outputs": [
    {
     "name": "stdout",
     "output_type": "stream",
     "text": [
      "0 sky\n",
      "1 blue\n",
      "2 beauti\n",
      "0 love\n",
      "1 blue\n",
      "2 beauti\n",
      "3 sky\n",
      "0 quick\n",
      "1 brown\n",
      "2 fox\n",
      "3 jump\n",
      "4 lazi\n",
      "5 dog\n",
      "0 king\n",
      "1 breakfast\n",
      "2 sausag\n",
      "3 ham\n",
      "4 bacon\n",
      "5 egg\n",
      "6 toast\n",
      "7 bean\n",
      "0 love\n",
      "1 green\n",
      "2 egg\n",
      "3 ham\n",
      "4 sausag\n",
      "5 bacon\n",
      "0 brown\n",
      "1 fox\n",
      "2 quick\n",
      "3 blue\n",
      "4 dog\n",
      "5 lazi\n",
      "0 sky\n",
      "1 blue\n",
      "2 sky\n",
      "3 beauti\n",
      "4 today\n"
     ]
    }
   ],
   "source": [
    " for sentence in tokenized_corpus:\n",
    "        for idx,target_word in enumerate(sentence):\n",
    "            print(idx,target_word)"
   ]
  },
  {
   "cell_type": "markdown",
   "id": "c9051845",
   "metadata": {
    "papermill": {
     "duration": 0.006859,
     "end_time": "2025-01-27T19:00:48.491220",
     "exception": false,
     "start_time": "2025-01-27T19:00:48.484361",
     "status": "completed"
    },
    "tags": []
   },
   "source": [
    "## Generating CBOW data\n",
    "**Input**: It takes a corpus (list of tokenized sentences) and a context_window (an integer that defines how many words before and after the target word will be considered as context).\n",
    "\n",
    "**Context-Target Pairing**:\n",
    "\n",
    "For each word in the sentence (target_word), it selects a context window around it.\n",
    "The context window is defined by the context_window size, which gives the surrounding words (not including the target word itself).\n",
    "\n",
    "**Building Context and Target:**\n",
    "\n",
    "Context: All words in the sentence that fall within the context window around the target word.\n",
    "\n",
    "Target: The target word itself, converted to its index in the vocabulary.\n",
    "\n",
    "**Output:** The function appends pairs of context (list of word indices) and target (single word index) to the context_target_pairs list. This list contains all the (context, target) pairs needed for training the CBOW model."
   ]
  },
  {
   "cell_type": "code",
   "execution_count": 16,
   "id": "750e288f",
   "metadata": {
    "execution": {
     "iopub.execute_input": "2025-01-27T19:00:48.506642Z",
     "iopub.status.busy": "2025-01-27T19:00:48.506193Z",
     "iopub.status.idle": "2025-01-27T19:00:48.517868Z",
     "shell.execute_reply": "2025-01-27T19:00:48.516836Z"
    },
    "papermill": {
     "duration": 0.021096,
     "end_time": "2025-01-27T19:00:48.519359",
     "exception": false,
     "start_time": "2025-01-27T19:00:48.498263",
     "status": "completed"
    },
    "tags": []
   },
   "outputs": [
    {
     "data": {
      "text/plain": [
       "[([1, 2], 0),\n",
       " ([0, 2], 1),\n",
       " ([0, 1], 2),\n",
       " ([1, 2], 3),\n",
       " ([3, 2, 0], 1),\n",
       " ([3, 1, 0], 2),\n",
       " ([1, 2], 0),\n",
       " ([5, 6], 4),\n",
       " ([4, 6, 7], 5),\n",
       " ([4, 5, 7, 8], 6),\n",
       " ([5, 6, 8, 9], 7),\n",
       " ([6, 7, 9], 8),\n",
       " ([7, 8], 9),\n",
       " ([11, 12], 10),\n",
       " ([10, 12, 13], 11),\n",
       " ([10, 11, 13, 14], 12),\n",
       " ([11, 12, 14, 15], 13),\n",
       " ([12, 13, 15, 16], 14),\n",
       " ([13, 14, 16, 17], 15),\n",
       " ([14, 15, 17], 16),\n",
       " ([15, 16], 17),\n",
       " ([18, 15], 3),\n",
       " ([3, 15, 13], 18),\n",
       " ([3, 18, 13, 12], 15),\n",
       " ([18, 15, 12, 14], 13),\n",
       " ([15, 13, 14], 12),\n",
       " ([13, 12], 14),\n",
       " ([6, 4], 5),\n",
       " ([5, 4, 1], 6),\n",
       " ([5, 6, 1, 9], 4),\n",
       " ([6, 4, 9, 8], 1),\n",
       " ([4, 1, 8], 9),\n",
       " ([1, 9], 8),\n",
       " ([1, 0], 0),\n",
       " ([0, 0, 2], 1),\n",
       " ([0, 1, 2, 19], 0),\n",
       " ([1, 0, 19], 2),\n",
       " ([0, 2], 19)]"
      ]
     },
     "execution_count": 16,
     "metadata": {},
     "output_type": "execute_result"
    }
   ],
   "source": [
    "def generate_cbow_data(corpus,contect_window):\n",
    "    context_target_pairs=[]\n",
    "    for sentence in corpus:\n",
    "        for idx,target_word in enumerate(sentence):\n",
    "            start=max(0, idx-context_window)\n",
    "            end=min(len(sentence), idx+context_window+1)\n",
    "\n",
    "            context=[sentence[i] for i in range(start, end) if i !=idx]\n",
    "            target_idx=vocabulary[target_word]\n",
    "            context_idx=[vocabulary[word] for word in context]\n",
    "            context_target_pairs.append((context_idx,target_idx))\n",
    "    return context_target_pairs\n",
    "context_target_pairs = generate_cbow_data(tokenized_corpus, context_window)\n",
    "context_target_pairs"
   ]
  },
  {
   "cell_type": "code",
   "execution_count": 17,
   "id": "f9c39019",
   "metadata": {
    "execution": {
     "iopub.execute_input": "2025-01-27T19:00:48.535346Z",
     "iopub.status.busy": "2025-01-27T19:00:48.534944Z",
     "iopub.status.idle": "2025-01-27T19:00:48.543123Z",
     "shell.execute_reply": "2025-01-27T19:00:48.542158Z"
    },
    "papermill": {
     "duration": 0.017903,
     "end_time": "2025-01-27T19:00:48.544677",
     "exception": false,
     "start_time": "2025-01-27T19:00:48.526774",
     "status": "completed"
    },
    "tags": []
   },
   "outputs": [
    {
     "data": {
      "text/plain": [
       "38"
      ]
     },
     "execution_count": 17,
     "metadata": {},
     "output_type": "execute_result"
    }
   ],
   "source": [
    "def generate_cbow_data_inwords(corpus, context_window):\n",
    "    context_target_pairs = []\n",
    "    # Reverse the vocabulary dictionary to map index to word\n",
    "    index_to_word = {index: word for word, index in vocabulary.items()}\n",
    "    \n",
    "    for sentence in corpus:\n",
    "        for idx, target_word in enumerate(sentence):\n",
    "            start = max(0, idx - context_window)\n",
    "            end = min(len(sentence), idx + context_window + 1)\n",
    "\n",
    "            context = [sentence[i] for i in range(start, end) if i != idx]\n",
    "            \n",
    "            # Get the words instead of indices\n",
    "            target_word_in_vocab = target_word  # Target word remains the same\n",
    "            context_words = [sentence[i] for i in range(start, end) if i != idx]\n",
    "\n",
    "            # Append the word-context pairs\n",
    "            context_target_pairs.append((context_words, target_word_in_vocab))\n",
    "\n",
    "    return context_target_pairs\n",
    "context_target_pairs_inwords = generate_cbow_data_inwords(tokenized_corpus, context_window)\n",
    "len(context_target_pairs_inwords)"
   ]
  },
  {
   "cell_type": "code",
   "execution_count": 18,
   "id": "c5f595d6",
   "metadata": {
    "execution": {
     "iopub.execute_input": "2025-01-27T19:00:48.560568Z",
     "iopub.status.busy": "2025-01-27T19:00:48.560176Z",
     "iopub.status.idle": "2025-01-27T19:00:48.567219Z",
     "shell.execute_reply": "2025-01-27T19:00:48.566206Z"
    },
    "papermill": {
     "duration": 0.016712,
     "end_time": "2025-01-27T19:00:48.568672",
     "exception": false,
     "start_time": "2025-01-27T19:00:48.551960",
     "status": "completed"
    },
    "tags": []
   },
   "outputs": [
    {
     "data": {
      "text/plain": [
       "(5, 20)"
      ]
     },
     "execution_count": 18,
     "metadata": {},
     "output_type": "execute_result"
    }
   ],
   "source": [
    "def initialize_weights(vocab_size,embedding_dim):\n",
    "    W_in = np.random.uniform(-1,1,(vocab_size,embedding_dim))  # Initialize input weights (context to hidden layer)\n",
    "    # Initialize output weights (hidden to output layer)\n",
    "    W_out = np.random.uniform(-1, 1, (embedding_dim, vocab_size))\n",
    "    return W_in, W_out\n",
    "W_in, W_out = initialize_weights(vocab_size, embedding_dim)\n",
    "W_out.shape"
   ]
  },
  {
   "cell_type": "markdown",
   "id": "56c490e4",
   "metadata": {
    "papermill": {
     "duration": 0.006981,
     "end_time": "2025-01-27T19:00:48.583074",
     "exception": false,
     "start_time": "2025-01-27T19:00:48.576093",
     "status": "completed"
    },
    "tags": []
   },
   "source": [
    "# Training CBOW Model\n",
    "\n",
    "## 1. Function Definition\n",
    "The `train_cbow` function trains a CBOW model using:\n",
    "- **Inputs**:\n",
    "  - `corpus`: Tokenized sentences.\n",
    "  - `context_target_pairs`: Pairs of context words and target words.\n",
    "  - `W_in`: Input weight matrix (`vocab_size × embedding_dim`) storing word embeddings.\n",
    "  - `W_out`: Output weight matrix (`embedding_dim × vocab_size`) mapping context to word probabilities.\n",
    "- **Hyperparameters**: Number of training epochs and learning rate.\n",
    "\n",
    "---\n",
    "\n",
    "## 2. Forward Pass\n",
    "### Context Vector Calculation\n",
    "- The context embeddings (`n × embedding_dim`) are averaged to form a context vector (`embedding_dim`).\n",
    "\n",
    "### Prediction\n",
    "- Multiply the context vector (`embedding_dim`) with `W_out` (`embedding_dim × vocab_size`) to get a predicted vector (`vocab_size`).\n",
    "\n",
    "### Softmax\n",
    "- Transform the predicted vector (`vocab_size`) into a probability distribution over the vocabulary.\n",
    "\n",
    "---\n",
    "\n",
    "## 3. Loss Calculation\n",
    "### Target Vector\n",
    "- Represent the target word as a one-hot vector of size `vocab_size`.\n",
    "\n",
    "### Cross-Entropy Loss\n",
    "- Compute the loss based on the difference between the predicted probabilities and the target word.\n",
    "\n",
    "---\n",
    "\n",
    "## 4. Backpropagation\n",
    "### Error Calculation\n",
    "- Calculate the error (`vocab_size`) by subtracting the target vector from the predicted probabilities.\n",
    "\n",
    "### Gradients\n",
    "- **Output Weights (`W_out`)**:\n",
    "  - Calculate the gradient as the outer product of the context vector (`embedding_dim`) and the error (`vocab_size`), resulting in `embedding_dim × vocab_size`.\n",
    "- **Input Weights (`W_in`)**:\n",
    "  - Compute the gradient by multiplying the error (`vocab_size`) with the transpose of `W_out` (`vocab_size × embedding_dim`), then averaging over `n` context words to get `embedding_dim`.\n",
    "\n",
    "---\n",
    "\n",
    "## 5. Weight Updates\n",
    "### Input Weights\n",
    "- Update `W_in` (`vocab_size × embedding_dim`) for the context words using the computed gradient.\n",
    "\n",
    "### Output Weights\n",
    "- Update `W_out` (`embedding_dim × vocab_size`) using the gradient.\n",
    "\n",
    "---\n",
    "\n",
    "## 6. Training Loop\n",
    "1. Iterate over all context-target pairs for a specified number of epochs.\n",
    "2. For each pair:\n",
    "   - Compute the context vector via forward pass.\n",
    "   - Calculate the loss and gradients during backpropagation.\n",
    "   - Update `W_in` and `W_out` using gradient descent.\n",
    "3. Monitor the total loss in each epoch.\n",
    "\n",
    "This process gradually improves the CBOW model's accuracy in predicting target words based on context, leveraging the specified dimensionality at each step.\n"
   ]
  },
  {
   "cell_type": "code",
   "execution_count": 19,
   "id": "03bbe0a3",
   "metadata": {
    "execution": {
     "iopub.execute_input": "2025-01-27T19:00:48.598896Z",
     "iopub.status.busy": "2025-01-27T19:00:48.598495Z",
     "iopub.status.idle": "2025-01-27T19:00:48.827202Z",
     "shell.execute_reply": "2025-01-27T19:00:48.825723Z"
    },
    "papermill": {
     "duration": 0.238474,
     "end_time": "2025-01-27T19:00:48.828896",
     "exception": false,
     "start_time": "2025-01-27T19:00:48.590422",
     "status": "completed"
    },
    "tags": []
   },
   "outputs": [
    {
     "name": "stdout",
     "output_type": "stream",
     "text": [
      "Epoch 100/100, Loss: 79.2711628373601\n",
      "Learned word embeddings:\n",
      "[[ 0.40394698  0.88989258 -0.42751692  1.0256363  -0.06924945]\n",
      " [-0.80373126 -1.06444385 -1.35340571  0.19909426 -0.48880177]\n",
      " [ 0.6646019   0.78376181 -1.28518831  1.66796791 -1.83232218]\n",
      " [-0.06437031 -0.23090302  0.28971104  0.36837557 -0.5228859 ]\n",
      " [-0.21004882 -0.91912548  0.47133181 -1.04593952 -0.02356047]\n",
      " [ 0.71895253 -0.33732462 -0.2626853  -1.6141949  -0.53456578]\n",
      " [-0.27474811  0.66289308  1.46105585 -0.80324168  0.71832287]\n",
      " [ 0.15444811 -0.14346614 -0.172134   -1.06294692  0.19089646]\n",
      " [-0.03369956  0.14686472  0.32606167 -0.01400756  0.4199413 ]\n",
      " [ 0.546881    0.69181146  0.77615928 -0.51812945  0.93651702]\n",
      " [-0.89251842 -1.01212627 -0.21842565 -0.44978958  0.57626747]\n",
      " [ 1.23668219 -0.45141259  0.40360277 -0.51597284  0.62215122]\n",
      " [ 0.84111284 -0.64577018 -0.32425686  0.0996066  -0.2621909 ]\n",
      " [-0.34881044 -1.40322261 -0.55419585  0.41730529  0.93992779]\n",
      " [-0.58053829 -0.68723164 -0.17385116  0.00508472  0.9677971 ]\n",
      " [ 0.46983783 -0.29047546 -0.41065583 -0.56618379 -0.88041193]\n",
      " [-0.19998816 -0.50815422 -1.09421884 -0.71883299 -0.45909855]\n",
      " [-0.15591292  0.21287798 -0.45495985 -0.11038309 -0.43686196]\n",
      " [ 0.9394975  -0.69316006  0.57819583  0.41791758 -0.68649592]\n",
      " [ 0.16974947 -0.76137754  0.76640127  0.03716997  0.13569245]]\n"
     ]
    }
   ],
   "source": [
    "def train_cbow(corpus, context_target_pairs,W_in,W_out,epochs=200,learning_rate=0.05):\n",
    "    for epoch in range(epochs):\n",
    "        total_loss=0\n",
    "        for context_words,target_word in context_target_pairs:\n",
    "            context_vectors=np.mean(W_in[context_words],axis=0)\n",
    "            predicted_word_vector=np.dot(context_vectors,W_out)\n",
    "            # Compute the softmax function for output layer\n",
    "            exp_scores=np.exp(predicted_word_vector)\n",
    "            probs=exp_scores/np.sum(exp_scores)\n",
    "            # Compute loss\n",
    "            target_vector=np.zeros(vocab_size)\n",
    "            target_vector[target_word]=1\n",
    "            loss= -np.log(probs[target_word])\n",
    "            total_loss +=loss\n",
    "            # Backpropogation\n",
    "            error=probs -target_vector\n",
    "            dW_out= np.outer(context_vectors,error)\n",
    "            dW_in = np.dot(error, W_out.T) / len(context_words)  # Corrected gradient\n",
    "            # Update Weights\n",
    "            W_in[context_words]-= learning_rate * dW_in\n",
    "            W_out -= learning_rate* dW_out\n",
    "    print(f\"Epoch {epoch + 1}/{epochs}, Loss: {total_loss}\")\n",
    "\n",
    "# Train the CBOW model\n",
    "train_cbow(tokenized_corpus, context_target_pairs, W_in, W_out, epochs=100, learning_rate=0.01)\n",
    "\n",
    "# Extract learned word embeddings\n",
    "word_embeddings = W_in\n",
    "print(\"Learned word embeddings:\")\n",
    "print(word_embeddings)"
   ]
  },
  {
   "cell_type": "code",
   "execution_count": 20,
   "id": "c12e155a",
   "metadata": {
    "execution": {
     "iopub.execute_input": "2025-01-27T19:00:48.845656Z",
     "iopub.status.busy": "2025-01-27T19:00:48.845252Z",
     "iopub.status.idle": "2025-01-27T19:00:49.475147Z",
     "shell.execute_reply": "2025-01-27T19:00:49.474051Z"
    },
    "papermill": {
     "duration": 0.640118,
     "end_time": "2025-01-27T19:00:49.476767",
     "exception": false,
     "start_time": "2025-01-27T19:00:48.836649",
     "status": "completed"
    },
    "tags": []
   },
   "outputs": [
    {
     "data": {
      "image/png": "[encoded data removed]",
      "text/plain": [
       "<Figure size 1000x1000 with 1 Axes>"
      ]
     },
     "metadata": {},
     "output_type": "display_data"
    }
   ],
   "source": [
    "from sklearn.decomposition import PCA\n",
    "import matplotlib.pyplot as plt\n",
    "\n",
    "# Reduce dimensions to 2D for visualization\n",
    "pca = PCA(n_components=2)\n",
    "reduced_embeddings = pca.fit_transform(W_in)\n",
    "\n",
    "# Plot the embeddings\n",
    "plt.figure(figsize=(10, 10))\n",
    "for i, word in enumerate(vocabulary):\n",
    "    plt.scatter(reduced_embeddings[i, 0], reduced_embeddings[i, 1])\n",
    "    plt.annotate(word, (reduced_embeddings[i, 0], reduced_embeddings[i, 1]))\n",
    "plt.title(\"Word Embedding Visualization\")\n",
    "plt.show()\n"
   ]
  },
  {
   "cell_type": "code",
   "execution_count": 21,
   "id": "b844c40b",
   "metadata": {
    "execution": {
     "iopub.execute_input": "2025-01-27T19:00:49.494789Z",
     "iopub.status.busy": "2025-01-27T19:00:49.494393Z",
     "iopub.status.idle": "2025-01-27T19:00:50.556421Z",
     "shell.execute_reply": "2025-01-27T19:00:50.555400Z"
    },
    "papermill": {
     "duration": 1.072978,
     "end_time": "2025-01-27T19:00:50.558153",
     "exception": false,
     "start_time": "2025-01-27T19:00:49.485175",
     "status": "completed"
    },
    "tags": []
   },
   "outputs": [
    {
     "data": {
      "image/png": "[encoded data removed]",
      "text/plain": [
       "<Figure size 1000x800 with 2 Axes>"
      ]
     },
     "metadata": {},
     "output_type": "display_data"
    }
   ],
   "source": [
    "from sklearn.metrics.pairwise import cosine_similarity\n",
    "import seaborn as sns\n",
    "import numpy as np\n",
    "\n",
    "# Compute cosine similarity matrix\n",
    "similarity_matrix = cosine_similarity(W_in)\n",
    "\n",
    "# Create a heatmap of word similarities\n",
    "plt.figure(figsize=(10, 8))\n",
    "sns.heatmap(similarity_matrix, xticklabels=vocabulary.keys(), yticklabels=vocabulary.keys(), cmap=\"coolwarm\")\n",
    "plt.title(\"Word Similarity Heatmap\")\n",
    "plt.show()\n"
   ]
  },
  {
   "cell_type": "code",
   "execution_count": null,
   "id": "3e44ddc2",
   "metadata": {
    "papermill": {
     "duration": 0.010257,
     "end_time": "2025-01-27T19:00:50.578048",
     "exception": false,
     "start_time": "2025-01-27T19:00:50.567791",
     "status": "completed"
    },
    "tags": []
   },
   "outputs": [],
   "source": []
  },
  {
   "cell_type": "code",
   "execution_count": null,
   "id": "d0832844",
   "metadata": {
    "papermill": {
     "duration": 0.008903,
     "end_time": "2025-01-27T19:00:50.596167",
     "exception": false,
     "start_time": "2025-01-27T19:00:50.587264",
     "status": "completed"
    },
    "tags": []
   },
   "outputs": [],
   "source": []
  },
  {
   "cell_type": "code",
   "execution_count": null,
   "id": "f720de96",
   "metadata": {
    "papermill": {
     "duration": 0.009046,
     "end_time": "2025-01-27T19:00:50.614593",
     "exception": false,
     "start_time": "2025-01-27T19:00:50.605547",
     "status": "completed"
    },
    "tags": []
   },
   "outputs": [],
   "source": []
  },
  {
   "cell_type": "code",
   "execution_count": null,
   "id": "faafda48",
   "metadata": {
    "papermill": {
     "duration": 0.009103,
     "end_time": "2025-01-27T19:00:50.633006",
     "exception": false,
     "start_time": "2025-01-27T19:00:50.623903",
     "status": "completed"
    },
    "tags": []
   },
   "outputs": [],
   "source": []
  },
  {
   "cell_type": "code",
   "execution_count": null,
   "id": "75524370",
   "metadata": {
    "papermill": {
     "duration": 0.009136,
     "end_time": "2025-01-27T19:00:50.651480",
     "exception": false,
     "start_time": "2025-01-27T19:00:50.642344",
     "status": "completed"
    },
    "tags": []
   },
   "outputs": [],
   "source": []
  },
  {
   "cell_type": "code",
   "execution_count": null,
   "id": "3ed4a9e6",
   "metadata": {
    "papermill": {
     "duration": 0.009283,
     "end_time": "2025-01-27T19:00:50.670334",
     "exception": false,
     "start_time": "2025-01-27T19:00:50.661051",
     "status": "completed"
    },
    "tags": []
   },
   "outputs": [],
   "source": []
  }
 ],
 "metadata": {
  "kaggle": {
   "accelerator": "none",
   "dataSources": [],
   "dockerImageVersionId": 30839,
   "isGpuEnabled": false,
   "isInternetEnabled": true,
   "language": "python",
   "sourceType": "notebook"
  },
  "kernelspec": {
   "display_name": "Python 3",
   "language": "python",
   "name": "python3"
  },
  "language_info": {
   "codemirror_mode": {
    "name": "ipython",
    "version": 3
   },
   "file_extension": ".py",
   "mimetype": "text/x-python",
   "name": "python",
   "nbconvert_exporter": "python",
   "pygments_lexer": "ipython3",
   "version": "3.10.12"
  },
  "papermill": {
   "default_parameters": {},
   "duration": 9.071211,
   "end_time": "2025-01-27T19:00:51.500354",
   "environment_variables": {},
   "exception": null,
   "input_path": "__notebook__.ipynb",
   "output_path": "__notebook__.ipynb",
   "parameters": {},
   "start_time": "2025-01-27T19:00:42.429143",
   "version": "2.6.0"
  }
 },
 "nbformat": 4,
 "nbformat_minor": 5
}
