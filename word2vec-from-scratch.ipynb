{
 "cells": [
  {
   "cell_type": "markdown",
   "id": "2cbe9031",
   "metadata": {
    "papermill": {
     "duration": 0.008857,
     "end_time": "2025-01-27T18:32:02.166427",
     "exception": false,
     "start_time": "2025-01-27T18:32:02.157570",
     "status": "completed"
    },
    "tags": []
   },
   "source": [
    "# Word2Vec from Scratch\n",
    "\n",
    "In this notebook, we will implement **Word2Vec** from scratch, a popular technique for learning distributed word representations. Word2Vec converts words into dense vector embeddings that capture semantic relationships based on the surrounding context in a text corpus. We will focus on both **CBOW** and **Skip-Gram** architecture.\n",
    "\n",
    "We will walk through the entire process:\n",
    "- **Preprocessing the corpus** to tokenize, clean, and build a vocabulary.\n",
    "- **Generating training data** for the model by creating target-context pairs.\n",
    "- **Initializing and training the model** by updating weights using the CBOW and  Skip-Gram approach.\n",
    "- **Extracting word embeddings** to visualize the learned word vectors.\n",
    "\n",
    "## What is Word2Vec?\n",
    "\n",
    "Word2Vec is a machine learning technique that transforms words into dense vector representations, capturing semantic relationships based on their context in a corpus. It uses two architectures: **Skip-Gram**, which predicts context words given a target word, and **CBOW (Continuous Bag of Words)**, which predicts a target word from surrounding context words. By training on large text data, Word2Vec learns embeddings where words with similar meanings are positioned closer in the vector space, enabling efficient natural language processing tasks like sentiment analysis, clustering, and recommendation systems.\n",
    "\n",
    "### CBOW (Continuous Bag of Words)\n",
    "The **Continuous Bag of Words (CBOW)** model is one of the two architectures in Word2Vec. It aims to predict a target word based on the surrounding context words. Here's how it works:\n",
    "1. **Context Window**: For a given target word, a context window is selected (typically a fixed number of words before and after the target word).\n",
    "2. **Prediction**: CBOW uses the context words (surrounding words) to predict the target word (center word). The model tries to maximize the probability of the target word, given the context.\n",
    "   \n",
    "For example, in the sentence **\"The cat sat on the mat,\"** if the target word is \"sat,\" the context words would be **[\"the\", \"cat\", \"on\", \"the\", \"mat\"]**. The model uses these context words to predict the word \"sat.\" \n",
    "\n",
    "This approach works well for smaller datasets and is efficient when the task involves predicting target words based on context.\n",
    "\n",
    "### Skip-Gram Model\n",
    "The **Skip-Gram** model is the second architecture in Word2Vec. Unlike CBOW, Skip-Gram tries to predict the context words based on a given target word. Instead of predicting a single target word from context, Skip-Gram focuses on maximizing the probability of context words given the target word. \n",
    "\n",
    "For example, using the same sentence **\"The cat sat on the mat,\"** if \"sat\" is the target word, the model tries to predict context words **[\"the\", \"cat\", \"on\", \"the\", \"mat\"]**. \n",
    "\n",
    "Skip-Gram is more effective in cases where we have large corpora and is particularly good at handling rare words by using context.\n",
    "\n",
    "### Key Differences Between CBOW and Skip-Gram\n",
    "- **CBOW** uses context words to predict the target word, making it faster for training and better for smaller datasets.\n",
    "- **Skip-Gram** predicts the context words based on the target word, which is more effective for large datasets and rare words.\n",
    "- **Training Efficiency**: CBOW is faster due to fewer weight updates as it predicts one word from the context, while Skip-Gram requires updating weights for multiple context words per target word.\n",
    "\n",
    "Both architectures aim to generate vector embeddings where words with similar meanings are placed closer in the vector space, and can be applied to a wide range of tasks like sentiment analysis, machine translation, and word similarity analysis.\n",
    "\n",
    "---\n",
    "\n",
    "In the upcoming sections of this notebook, we will implement both CBOW and Skip-Gram models from scratch, starting with preprocessing the dataset and building the vocabulary.\n"
   ]
  },
  {
   "cell_type": "code",
   "execution_count": 1,
   "id": "9b2a68e1",
   "metadata": {
    "_cell_guid": "b1076dfc-b9ad-4769-8c92-a6c4dae69d19",
    "_uuid": "8f2839f25d086af736a60e9eeb907d3b93b6e0e5",
    "execution": {
     "iopub.execute_input": "2025-01-27T18:32:02.180499Z",
     "iopub.status.busy": "2025-01-27T18:32:02.180066Z",
     "iopub.status.idle": "2025-01-27T18:32:03.312521Z",
     "shell.execute_reply": "2025-01-27T18:32:03.311143Z"
    },
    "papermill": {
     "duration": 1.141814,
     "end_time": "2025-01-27T18:32:03.314731",
     "exception": false,
     "start_time": "2025-01-27T18:32:02.172917",
     "status": "completed"
    },
    "tags": []
   },
   "outputs": [],
   "source": [
    "# This Python 3 environment comes with many helpful analytics libraries installed\n",
    "# It is defined by the kaggle/python Docker image: https://github.com/kaggle/docker-python\n",
    "# For example, here's several helpful packages to load\n",
    "\n",
    "import numpy as np # linear algebra\n",
    "import pandas as pd # data processing, CSV file I/O (e.g. pd.read_csv)\n",
    "\n",
    "# Input data files are available in the read-only \"../input/\" directory\n",
    "# For example, running this (by clicking run or pressing Shift+Enter) will list all files under the input directory\n",
    "\n",
    "import os\n",
    "for dirname, _, filenames in os.walk('/kaggle/input'):\n",
    "    for filename in filenames:\n",
    "        print(os.path.join(dirname, filename))\n",
    "\n",
    "# You can write up to 20GB to the current directory (/kaggle/working/) that gets preserved as output when you create a version using \"Save & Run All\" \n",
    "# You can also write temporary files to /kaggle/temp/, but they won't be saved outside of the current session"
   ]
  },
  {
   "cell_type": "code",
   "execution_count": 2,
   "id": "9abb3c70",
   "metadata": {
    "execution": {
     "iopub.execute_input": "2025-01-27T18:32:03.328993Z",
     "iopub.status.busy": "2025-01-27T18:32:03.328235Z",
     "iopub.status.idle": "2025-01-27T18:32:05.771182Z",
     "shell.execute_reply": "2025-01-27T18:32:05.769864Z"
    },
    "papermill": {
     "duration": 2.4525,
     "end_time": "2025-01-27T18:32:05.773572",
     "exception": false,
     "start_time": "2025-01-27T18:32:03.321072",
     "status": "completed"
    },
    "tags": []
   },
   "outputs": [],
   "source": [
    "import numpy as np\n",
    "from collections import Counter\n",
    "import nltk\n",
    "import re\n",
    "from nltk.stem import PorterStemmer\n",
    "from nltk.corpus import stopwords\n",
    "from sklearn.preprocessing import OneHotEncoder"
   ]
  },
  {
   "cell_type": "code",
   "execution_count": 3,
   "id": "51e650f6",
   "metadata": {
    "execution": {
     "iopub.execute_input": "2025-01-27T18:32:05.788061Z",
     "iopub.status.busy": "2025-01-27T18:32:05.787360Z",
     "iopub.status.idle": "2025-01-27T18:32:05.792764Z",
     "shell.execute_reply": "2025-01-27T18:32:05.791529Z"
    },
    "papermill": {
     "duration": 0.014769,
     "end_time": "2025-01-27T18:32:05.794658",
     "exception": false,
     "start_time": "2025-01-27T18:32:05.779889",
     "status": "completed"
    },
    "tags": []
   },
   "outputs": [],
   "source": [
    "corpus = [\n",
    "    \"The sky is blue and beautiful\",\n",
    "    \"Love this blue and beautiful sky\",\n",
    "    \"The quick brown fox jumps over the lazy dog\",\n",
    "    \"A king's breakfast has sausages, ham, bacon, eggs, toast, and beans\",\n",
    "    \"I love green eggs, ham, sausages, and bacon\",\n",
    "    \"The brown fox is quick and the blue dog is lazy\",\n",
    "    \"The sky is very blue and the sky is very beautiful today\",   \n",
    "]\n"
   ]
  },
  {
   "cell_type": "code",
   "execution_count": 4,
   "id": "5acc918a",
   "metadata": {
    "execution": {
     "iopub.execute_input": "2025-01-27T18:32:05.808485Z",
     "iopub.status.busy": "2025-01-27T18:32:05.808035Z",
     "iopub.status.idle": "2025-01-27T18:32:05.814329Z",
     "shell.execute_reply": "2025-01-27T18:32:05.813145Z"
    },
    "papermill": {
     "duration": 0.015237,
     "end_time": "2025-01-27T18:32:05.816135",
     "exception": false,
     "start_time": "2025-01-27T18:32:05.800898",
     "status": "completed"
    },
    "tags": []
   },
   "outputs": [],
   "source": [
    "stemmer=PorterStemmer()\n",
    "def text_cleaning(corpus):\n",
    "    cleaned_corpus=[]\n",
    "    for review in corpus:\n",
    "        review=re.sub('[^a-zA-Z]',' ',review)\n",
    "        review=review.lower().split()\n",
    "        review=[stemmer.stem(word) for word in review if word not in stopwords.words('english')]\n",
    "        review=' '.join (review)\n",
    "        cleaned_corpus.append(review)\n",
    "    return cleaned_corpus  "
   ]
  },
  {
   "cell_type": "code",
   "execution_count": 5,
   "id": "71499e23",
   "metadata": {
    "execution": {
     "iopub.execute_input": "2025-01-27T18:32:05.830183Z",
     "iopub.status.busy": "2025-01-27T18:32:05.829778Z",
     "iopub.status.idle": "2025-01-27T18:32:05.852923Z",
     "shell.execute_reply": "2025-01-27T18:32:05.851292Z"
    },
    "papermill": {
     "duration": 0.032861,
     "end_time": "2025-01-27T18:32:05.855277",
     "exception": false,
     "start_time": "2025-01-27T18:32:05.822416",
     "status": "completed"
    },
    "tags": []
   },
   "outputs": [
    {
     "data": {
      "text/plain": [
       "['sky blue beauti',\n",
       " 'love blue beauti sky',\n",
       " 'quick brown fox jump lazi dog',\n",
       " 'king breakfast sausag ham bacon egg toast bean',\n",
       " 'love green egg ham sausag bacon',\n",
       " 'brown fox quick blue dog lazi',\n",
       " 'sky blue sky beauti today']"
      ]
     },
     "execution_count": 5,
     "metadata": {},
     "output_type": "execute_result"
    }
   ],
   "source": [
    "corpus=text_cleaning(corpus)\n",
    "corpus"
   ]
  },
  {
   "cell_type": "code",
   "execution_count": 6,
   "id": "30b33a96",
   "metadata": {
    "execution": {
     "iopub.execute_input": "2025-01-27T18:32:05.871183Z",
     "iopub.status.busy": "2025-01-27T18:32:05.870748Z",
     "iopub.status.idle": "2025-01-27T18:32:05.878658Z",
     "shell.execute_reply": "2025-01-27T18:32:05.877395Z"
    },
    "papermill": {
     "duration": 0.018122,
     "end_time": "2025-01-27T18:32:05.880598",
     "exception": false,
     "start_time": "2025-01-27T18:32:05.862476",
     "status": "completed"
    },
    "tags": []
   },
   "outputs": [
    {
     "data": {
      "text/plain": [
       "[['sky', 'blue', 'beauti'],\n",
       " ['love', 'blue', 'beauti', 'sky'],\n",
       " ['quick', 'brown', 'fox', 'jump', 'lazi', 'dog'],\n",
       " ['king', 'breakfast', 'sausag', 'ham', 'bacon', 'egg', 'toast', 'bean'],\n",
       " ['love', 'green', 'egg', 'ham', 'sausag', 'bacon'],\n",
       " ['brown', 'fox', 'quick', 'blue', 'dog', 'lazi'],\n",
       " ['sky', 'blue', 'sky', 'beauti', 'today']]"
      ]
     },
     "execution_count": 6,
     "metadata": {},
     "output_type": "execute_result"
    }
   ],
   "source": [
    "tokenized_corpus = [sentence.split() for sentence in corpus]\n",
    "tokenized_corpus"
   ]
  },
  {
   "cell_type": "code",
   "execution_count": 7,
   "id": "b91aea01",
   "metadata": {
    "execution": {
     "iopub.execute_input": "2025-01-27T18:32:05.895615Z",
     "iopub.status.busy": "2025-01-27T18:32:05.895144Z",
     "iopub.status.idle": "2025-01-27T18:32:05.907283Z",
     "shell.execute_reply": "2025-01-27T18:32:05.904334Z"
    },
    "papermill": {
     "duration": 0.022028,
     "end_time": "2025-01-27T18:32:05.909210",
     "exception": false,
     "start_time": "2025-01-27T18:32:05.887182",
     "status": "completed"
    },
    "tags": []
   },
   "outputs": [
    {
     "name": "stdout",
     "output_type": "stream",
     "text": [
      "sky\n",
      "blue\n",
      "beauti\n",
      "love\n",
      "blue\n",
      "beauti\n",
      "sky\n",
      "quick\n",
      "brown\n",
      "fox\n",
      "jump\n",
      "lazi\n",
      "dog\n",
      "king\n",
      "breakfast\n",
      "sausag\n",
      "ham\n",
      "bacon\n",
      "egg\n",
      "toast\n",
      "bean\n",
      "love\n",
      "green\n",
      "egg\n",
      "ham\n",
      "sausag\n",
      "bacon\n",
      "brown\n",
      "fox\n",
      "quick\n",
      "blue\n",
      "dog\n",
      "lazi\n",
      "sky\n",
      "blue\n",
      "sky\n",
      "beauti\n",
      "today\n"
     ]
    }
   ],
   "source": [
    "for sentence in tokenized_corpus:\n",
    "    for word in sentence:\n",
    "        print (word)"
   ]
  },
  {
   "cell_type": "code",
   "execution_count": 8,
   "id": "ee835cb9",
   "metadata": {
    "execution": {
     "iopub.execute_input": "2025-01-27T18:32:05.924047Z",
     "iopub.status.busy": "2025-01-27T18:32:05.923606Z",
     "iopub.status.idle": "2025-01-27T18:32:05.929650Z",
     "shell.execute_reply": "2025-01-27T18:32:05.928415Z"
    },
    "papermill": {
     "duration": 0.015791,
     "end_time": "2025-01-27T18:32:05.931604",
     "exception": false,
     "start_time": "2025-01-27T18:32:05.915813",
     "status": "completed"
    },
    "tags": []
   },
   "outputs": [],
   "source": [
    "def build_vocab(corpus):\n",
    "    # Flatten the corpus into one list and count the frequency of words\n",
    "    words = [word for sentence in corpus for word in sentence]\n",
    "    word_counts = Counter(words)\n",
    "    vocabulary = {word: idx for idx, (word, _) in enumerate(word_counts.items())}\n",
    "    return vocabulary, word_counts"
   ]
  },
  {
   "cell_type": "code",
   "execution_count": 9,
   "id": "9015f946",
   "metadata": {
    "execution": {
     "iopub.execute_input": "2025-01-27T18:32:05.946134Z",
     "iopub.status.busy": "2025-01-27T18:32:05.945708Z",
     "iopub.status.idle": "2025-01-27T18:32:05.951377Z",
     "shell.execute_reply": "2025-01-27T18:32:05.949919Z"
    },
    "papermill": {
     "duration": 0.015374,
     "end_time": "2025-01-27T18:32:05.953439",
     "exception": false,
     "start_time": "2025-01-27T18:32:05.938065",
     "status": "completed"
    },
    "tags": []
   },
   "outputs": [],
   "source": [
    "vocabulary, word_counts = build_vocab(tokenized_corpus)"
   ]
  },
  {
   "cell_type": "code",
   "execution_count": 10,
   "id": "cd90897f",
   "metadata": {
    "execution": {
     "iopub.execute_input": "2025-01-27T18:32:05.967966Z",
     "iopub.status.busy": "2025-01-27T18:32:05.967524Z",
     "iopub.status.idle": "2025-01-27T18:32:05.974546Z",
     "shell.execute_reply": "2025-01-27T18:32:05.973384Z"
    },
    "papermill": {
     "duration": 0.016138,
     "end_time": "2025-01-27T18:32:05.976230",
     "exception": false,
     "start_time": "2025-01-27T18:32:05.960092",
     "status": "completed"
    },
    "tags": []
   },
   "outputs": [
    {
     "data": {
      "text/plain": [
       "Counter({'sky': 4,\n",
       "         'blue': 4,\n",
       "         'beauti': 3,\n",
       "         'love': 2,\n",
       "         'quick': 2,\n",
       "         'brown': 2,\n",
       "         'fox': 2,\n",
       "         'jump': 1,\n",
       "         'lazi': 2,\n",
       "         'dog': 2,\n",
       "         'king': 1,\n",
       "         'breakfast': 1,\n",
       "         'sausag': 2,\n",
       "         'ham': 2,\n",
       "         'bacon': 2,\n",
       "         'egg': 2,\n",
       "         'toast': 1,\n",
       "         'bean': 1,\n",
       "         'green': 1,\n",
       "         'today': 1})"
      ]
     },
     "execution_count": 10,
     "metadata": {},
     "output_type": "execute_result"
    }
   ],
   "source": [
    "word_counts"
   ]
  },
  {
   "cell_type": "code",
   "execution_count": 11,
   "id": "1e08e59e",
   "metadata": {
    "execution": {
     "iopub.execute_input": "2025-01-27T18:32:05.991481Z",
     "iopub.status.busy": "2025-01-27T18:32:05.991021Z",
     "iopub.status.idle": "2025-01-27T18:32:05.998099Z",
     "shell.execute_reply": "2025-01-27T18:32:05.997129Z"
    },
    "papermill": {
     "duration": 0.016715,
     "end_time": "2025-01-27T18:32:05.999965",
     "exception": false,
     "start_time": "2025-01-27T18:32:05.983250",
     "status": "completed"
    },
    "tags": []
   },
   "outputs": [
    {
     "data": {
      "text/plain": [
       "{'sky': 0,\n",
       " 'blue': 1,\n",
       " 'beauti': 2,\n",
       " 'love': 3,\n",
       " 'quick': 4,\n",
       " 'brown': 5,\n",
       " 'fox': 6,\n",
       " 'jump': 7,\n",
       " 'lazi': 8,\n",
       " 'dog': 9,\n",
       " 'king': 10,\n",
       " 'breakfast': 11,\n",
       " 'sausag': 12,\n",
       " 'ham': 13,\n",
       " 'bacon': 14,\n",
       " 'egg': 15,\n",
       " 'toast': 16,\n",
       " 'bean': 17,\n",
       " 'green': 18,\n",
       " 'today': 19}"
      ]
     },
     "execution_count": 11,
     "metadata": {},
     "output_type": "execute_result"
    }
   ],
   "source": [
    "vocabulary"
   ]
  },
  {
   "cell_type": "code",
   "execution_count": 12,
   "id": "65bda430",
   "metadata": {
    "execution": {
     "iopub.execute_input": "2025-01-27T18:32:06.016200Z",
     "iopub.status.busy": "2025-01-27T18:32:06.015746Z",
     "iopub.status.idle": "2025-01-27T18:32:06.022943Z",
     "shell.execute_reply": "2025-01-27T18:32:06.021633Z"
    },
    "papermill": {
     "duration": 0.017604,
     "end_time": "2025-01-27T18:32:06.025081",
     "exception": false,
     "start_time": "2025-01-27T18:32:06.007477",
     "status": "completed"
    },
    "tags": []
   },
   "outputs": [
    {
     "data": {
      "text/plain": [
       "20"
      ]
     },
     "execution_count": 12,
     "metadata": {},
     "output_type": "execute_result"
    }
   ],
   "source": [
    "vocab_size=len(vocabulary)\n",
    "vocab_size"
   ]
  },
  {
   "cell_type": "code",
   "execution_count": 13,
   "id": "42a49eff",
   "metadata": {
    "execution": {
     "iopub.execute_input": "2025-01-27T18:32:06.041058Z",
     "iopub.status.busy": "2025-01-27T18:32:06.040570Z",
     "iopub.status.idle": "2025-01-27T18:32:06.045823Z",
     "shell.execute_reply": "2025-01-27T18:32:06.044611Z"
    },
    "papermill": {
     "duration": 0.015657,
     "end_time": "2025-01-27T18:32:06.047899",
     "exception": false,
     "start_time": "2025-01-27T18:32:06.032242",
     "status": "completed"
    },
    "tags": []
   },
   "outputs": [],
   "source": [
    "context_window = 2  # Number of words around the target word\n",
    "embedding_dim = 5  # Dimensionality of the word embeddings"
   ]
  },
  {
   "cell_type": "code",
   "execution_count": 14,
   "id": "e461684e",
   "metadata": {
    "execution": {
     "iopub.execute_input": "2025-01-27T18:32:06.064530Z",
     "iopub.status.busy": "2025-01-27T18:32:06.064018Z",
     "iopub.status.idle": "2025-01-27T18:32:06.089843Z",
     "shell.execute_reply": "2025-01-27T18:32:06.088312Z"
    },
    "papermill": {
     "duration": 0.036852,
     "end_time": "2025-01-27T18:32:06.092396",
     "exception": false,
     "start_time": "2025-01-27T18:32:06.055544",
     "status": "completed"
    },
    "tags": []
   },
   "outputs": [
    {
     "name": "stderr",
     "output_type": "stream",
     "text": [
      "/usr/local/lib/python3.10/dist-packages/sklearn/preprocessing/_encoders.py:868: FutureWarning: `sparse` was renamed to `sparse_output` in version 1.2 and will be removed in 1.4. `sparse_output` is ignored unless you leave `sparse` to its default value.\n",
      "  warnings.warn(\n"
     ]
    },
    {
     "data": {
      "text/plain": [
       "array([[1., 0., 0., 0., 0., 0., 0., 0., 0., 0., 0., 0., 0., 0., 0., 0.,\n",
       "        0., 0., 0., 0.],\n",
       "       [0., 1., 0., 0., 0., 0., 0., 0., 0., 0., 0., 0., 0., 0., 0., 0.,\n",
       "        0., 0., 0., 0.],\n",
       "       [0., 0., 1., 0., 0., 0., 0., 0., 0., 0., 0., 0., 0., 0., 0., 0.,\n",
       "        0., 0., 0., 0.],\n",
       "       [0., 0., 0., 1., 0., 0., 0., 0., 0., 0., 0., 0., 0., 0., 0., 0.,\n",
       "        0., 0., 0., 0.],\n",
       "       [0., 0., 0., 0., 1., 0., 0., 0., 0., 0., 0., 0., 0., 0., 0., 0.,\n",
       "        0., 0., 0., 0.],\n",
       "       [0., 0., 0., 0., 0., 1., 0., 0., 0., 0., 0., 0., 0., 0., 0., 0.,\n",
       "        0., 0., 0., 0.],\n",
       "       [0., 0., 0., 0., 0., 0., 1., 0., 0., 0., 0., 0., 0., 0., 0., 0.,\n",
       "        0., 0., 0., 0.],\n",
       "       [0., 0., 0., 0., 0., 0., 0., 1., 0., 0., 0., 0., 0., 0., 0., 0.,\n",
       "        0., 0., 0., 0.],\n",
       "       [0., 0., 0., 0., 0., 0., 0., 0., 1., 0., 0., 0., 0., 0., 0., 0.,\n",
       "        0., 0., 0., 0.],\n",
       "       [0., 0., 0., 0., 0., 0., 0., 0., 0., 1., 0., 0., 0., 0., 0., 0.,\n",
       "        0., 0., 0., 0.],\n",
       "       [0., 0., 0., 0., 0., 0., 0., 0., 0., 0., 1., 0., 0., 0., 0., 0.,\n",
       "        0., 0., 0., 0.],\n",
       "       [0., 0., 0., 0., 0., 0., 0., 0., 0., 0., 0., 1., 0., 0., 0., 0.,\n",
       "        0., 0., 0., 0.],\n",
       "       [0., 0., 0., 0., 0., 0., 0., 0., 0., 0., 0., 0., 1., 0., 0., 0.,\n",
       "        0., 0., 0., 0.],\n",
       "       [0., 0., 0., 0., 0., 0., 0., 0., 0., 0., 0., 0., 0., 1., 0., 0.,\n",
       "        0., 0., 0., 0.],\n",
       "       [0., 0., 0., 0., 0., 0., 0., 0., 0., 0., 0., 0., 0., 0., 1., 0.,\n",
       "        0., 0., 0., 0.],\n",
       "       [0., 0., 0., 0., 0., 0., 0., 0., 0., 0., 0., 0., 0., 0., 0., 1.,\n",
       "        0., 0., 0., 0.],\n",
       "       [0., 0., 0., 0., 0., 0., 0., 0., 0., 0., 0., 0., 0., 0., 0., 0.,\n",
       "        1., 0., 0., 0.],\n",
       "       [0., 0., 0., 0., 0., 0., 0., 0., 0., 0., 0., 0., 0., 0., 0., 0.,\n",
       "        0., 1., 0., 0.],\n",
       "       [0., 0., 0., 0., 0., 0., 0., 0., 0., 0., 0., 0., 0., 0., 0., 0.,\n",
       "        0., 0., 1., 0.],\n",
       "       [0., 0., 0., 0., 0., 0., 0., 0., 0., 0., 0., 0., 0., 0., 0., 0.,\n",
       "        0., 0., 0., 1.]])"
      ]
     },
     "execution_count": 14,
     "metadata": {},
     "output_type": "execute_result"
    }
   ],
   "source": [
    "encoder=OneHotEncoder(sparse=False)\n",
    "encoded_vocab=encoder.fit_transform(np.array(list(vocabulary.values())).reshape(-1,1))\n",
    "encoded_vocab"
   ]
  },
  {
   "cell_type": "code",
   "execution_count": 15,
   "id": "a7ff5a3d",
   "metadata": {
    "execution": {
     "iopub.execute_input": "2025-01-27T18:32:06.109195Z",
     "iopub.status.busy": "2025-01-27T18:32:06.108788Z",
     "iopub.status.idle": "2025-01-27T18:32:06.126286Z",
     "shell.execute_reply": "2025-01-27T18:32:06.122208Z"
    },
    "papermill": {
     "duration": 0.02948,
     "end_time": "2025-01-27T18:32:06.128827",
     "exception": false,
     "start_time": "2025-01-27T18:32:06.099347",
     "status": "completed"
    },
    "tags": []
   },
   "outputs": [
    {
     "name": "stdout",
     "output_type": "stream",
     "text": [
      "0 sky\n",
      "1 blue\n",
      "2 beauti\n",
      "0 love\n",
      "1 blue\n",
      "2 beauti\n",
      "3 sky\n",
      "0 quick\n",
      "1 brown\n",
      "2 fox\n",
      "3 jump\n",
      "4 lazi\n",
      "5 dog\n",
      "0 king\n",
      "1 breakfast\n",
      "2 sausag\n",
      "3 ham\n",
      "4 bacon\n",
      "5 egg\n",
      "6 toast\n",
      "7 bean\n",
      "0 love\n",
      "1 green\n",
      "2 egg\n",
      "3 ham\n",
      "4 sausag\n",
      "5 bacon\n",
      "0 brown\n",
      "1 fox\n",
      "2 quick\n",
      "3 blue\n",
      "4 dog\n",
      "5 lazi\n",
      "0 sky\n",
      "1 blue\n",
      "2 sky\n",
      "3 beauti\n",
      "4 today\n"
     ]
    }
   ],
   "source": [
    " for sentence in tokenized_corpus:\n",
    "        for idx,target_word in enumerate(sentence):\n",
    "            print(idx,target_word)"
   ]
  },
  {
   "cell_type": "markdown",
   "id": "9cedc2e6",
   "metadata": {
    "papermill": {
     "duration": 0.006838,
     "end_time": "2025-01-27T18:32:06.142911",
     "exception": false,
     "start_time": "2025-01-27T18:32:06.136073",
     "status": "completed"
    },
    "tags": []
   },
   "source": [
    "## Generating CBOW data\n",
    "**Input**: It takes a corpus (list of tokenized sentences) and a context_window (an integer that defines how many words before and after the target word will be considered as context).\n",
    "\n",
    "**Context-Target Pairing**:\n",
    "\n",
    "For each word in the sentence (target_word), it selects a context window around it.\n",
    "The context window is defined by the context_window size, which gives the surrounding words (not including the target word itself).\n",
    "\n",
    "**Building Context and Target:**\n",
    "\n",
    "Context: All words in the sentence that fall within the context window around the target word.\n",
    "\n",
    "Target: The target word itself, converted to its index in the vocabulary.\n",
    "\n",
    "**Output:** The function appends pairs of context (list of word indices) and target (single word index) to the context_target_pairs list. This list contains all the (context, target) pairs needed for training the CBOW model."
   ]
  },
  {
   "cell_type": "code",
   "execution_count": 16,
   "id": "9f971020",
   "metadata": {
    "execution": {
     "iopub.execute_input": "2025-01-27T18:32:06.159364Z",
     "iopub.status.busy": "2025-01-27T18:32:06.158941Z",
     "iopub.status.idle": "2025-01-27T18:32:06.171102Z",
     "shell.execute_reply": "2025-01-27T18:32:06.169879Z"
    },
    "papermill": {
     "duration": 0.022197,
     "end_time": "2025-01-27T18:32:06.172978",
     "exception": false,
     "start_time": "2025-01-27T18:32:06.150781",
     "status": "completed"
    },
    "tags": []
   },
   "outputs": [
    {
     "data": {
      "text/plain": [
       "[([1, 2], 0),\n",
       " ([0, 2], 1),\n",
       " ([0, 1], 2),\n",
       " ([1, 2], 3),\n",
       " ([3, 2, 0], 1),\n",
       " ([3, 1, 0], 2),\n",
       " ([1, 2], 0),\n",
       " ([5, 6], 4),\n",
       " ([4, 6, 7], 5),\n",
       " ([4, 5, 7, 8], 6),\n",
       " ([5, 6, 8, 9], 7),\n",
       " ([6, 7, 9], 8),\n",
       " ([7, 8], 9),\n",
       " ([11, 12], 10),\n",
       " ([10, 12, 13], 11),\n",
       " ([10, 11, 13, 14], 12),\n",
       " ([11, 12, 14, 15], 13),\n",
       " ([12, 13, 15, 16], 14),\n",
       " ([13, 14, 16, 17], 15),\n",
       " ([14, 15, 17], 16),\n",
       " ([15, 16], 17),\n",
       " ([18, 15], 3),\n",
       " ([3, 15, 13], 18),\n",
       " ([3, 18, 13, 12], 15),\n",
       " ([18, 15, 12, 14], 13),\n",
       " ([15, 13, 14], 12),\n",
       " ([13, 12], 14),\n",
       " ([6, 4], 5),\n",
       " ([5, 4, 1], 6),\n",
       " ([5, 6, 1, 9], 4),\n",
       " ([6, 4, 9, 8], 1),\n",
       " ([4, 1, 8], 9),\n",
       " ([1, 9], 8),\n",
       " ([1, 0], 0),\n",
       " ([0, 0, 2], 1),\n",
       " ([0, 1, 2, 19], 0),\n",
       " ([1, 0, 19], 2),\n",
       " ([0, 2], 19)]"
      ]
     },
     "execution_count": 16,
     "metadata": {},
     "output_type": "execute_result"
    }
   ],
   "source": [
    "def generate_cbow_data(corpus,contect_window):\n",
    "    context_target_pairs=[]\n",
    "    for sentence in corpus:\n",
    "        for idx,target_word in enumerate(sentence):\n",
    "            start=max(0, idx-context_window)\n",
    "            end=min(len(sentence), idx+context_window+1)\n",
    "\n",
    "            context=[sentence[i] for i in range(start, end) if i !=idx]\n",
    "            target_idx=vocabulary[target_word]\n",
    "            context_idx=[vocabulary[word] for word in context]\n",
    "            context_target_pairs.append((context_idx,target_idx))\n",
    "    return context_target_pairs\n",
    "context_target_pairs = generate_cbow_data(tokenized_corpus, context_window)\n",
    "context_target_pairs"
   ]
  },
  {
   "cell_type": "code",
   "execution_count": 17,
   "id": "5b17f322",
   "metadata": {
    "execution": {
     "iopub.execute_input": "2025-01-27T18:32:06.189387Z",
     "iopub.status.busy": "2025-01-27T18:32:06.188913Z",
     "iopub.status.idle": "2025-01-27T18:32:06.197997Z",
     "shell.execute_reply": "2025-01-27T18:32:06.196875Z"
    },
    "papermill": {
     "duration": 0.019486,
     "end_time": "2025-01-27T18:32:06.199616",
     "exception": false,
     "start_time": "2025-01-27T18:32:06.180130",
     "status": "completed"
    },
    "tags": []
   },
   "outputs": [
    {
     "data": {
      "text/plain": [
       "38"
      ]
     },
     "execution_count": 17,
     "metadata": {},
     "output_type": "execute_result"
    }
   ],
   "source": [
    "def generate_cbow_data_inwords(corpus, context_window):\n",
    "    context_target_pairs = []\n",
    "    # Reverse the vocabulary dictionary to map index to word\n",
    "    index_to_word = {index: word for word, index in vocabulary.items()}\n",
    "    \n",
    "    for sentence in corpus:\n",
    "        for idx, target_word in enumerate(sentence):\n",
    "            start = max(0, idx - context_window)\n",
    "            end = min(len(sentence), idx + context_window + 1)\n",
    "\n",
    "            context = [sentence[i] for i in range(start, end) if i != idx]\n",
    "            \n",
    "            # Get the words instead of indices\n",
    "            target_word_in_vocab = target_word  # Target word remains the same\n",
    "            context_words = [sentence[i] for i in range(start, end) if i != idx]\n",
    "\n",
    "            # Append the word-context pairs\n",
    "            context_target_pairs.append((context_words, target_word_in_vocab))\n",
    "\n",
    "    return context_target_pairs\n",
    "context_target_pairs_inwords = generate_cbow_data_inwords(tokenized_corpus, context_window)\n",
    "len(context_target_pairs_inwords)"
   ]
  },
  {
   "cell_type": "code",
   "execution_count": 18,
   "id": "df63f74b",
   "metadata": {
    "execution": {
     "iopub.execute_input": "2025-01-27T18:32:06.214817Z",
     "iopub.status.busy": "2025-01-27T18:32:06.214410Z",
     "iopub.status.idle": "2025-01-27T18:32:06.221964Z",
     "shell.execute_reply": "2025-01-27T18:32:06.220860Z"
    },
    "papermill": {
     "duration": 0.017333,
     "end_time": "2025-01-27T18:32:06.223872",
     "exception": false,
     "start_time": "2025-01-27T18:32:06.206539",
     "status": "completed"
    },
    "tags": []
   },
   "outputs": [
    {
     "data": {
      "text/plain": [
       "(5, 20)"
      ]
     },
     "execution_count": 18,
     "metadata": {},
     "output_type": "execute_result"
    }
   ],
   "source": [
    "def initialize_weights(vocab_size,embedding_dim):\n",
    "    W_in = np.random.uniform(-1,1,(vocab_size,embedding_dim))  # Initialize input weights (context to hidden layer)\n",
    "    # Initialize output weights (hidden to output layer)\n",
    "    W_out = np.random.uniform(-1, 1, (embedding_dim, vocab_size))\n",
    "    return W_in, W_out\n",
    "W_in, W_out = initialize_weights(vocab_size, embedding_dim)\n",
    "W_out.shape"
   ]
  },
  {
   "cell_type": "code",
   "execution_count": 19,
   "id": "e9812d1e",
   "metadata": {
    "execution": {
     "iopub.execute_input": "2025-01-27T18:32:06.239133Z",
     "iopub.status.busy": "2025-01-27T18:32:06.238801Z",
     "iopub.status.idle": "2025-01-27T18:32:06.465654Z",
     "shell.execute_reply": "2025-01-27T18:32:06.464364Z"
    },
    "papermill": {
     "duration": 0.236494,
     "end_time": "2025-01-27T18:32:06.467526",
     "exception": false,
     "start_time": "2025-01-27T18:32:06.231032",
     "status": "completed"
    },
    "tags": []
   },
   "outputs": [
    {
     "name": "stdout",
     "output_type": "stream",
     "text": [
      "Epoch 100/100, Loss: 69.42826127071095\n",
      "Learned word embeddings:\n",
      "[[ 1.27723122 -0.82754278 -0.36659214 -0.64737293  0.84528799]\n",
      " [ 1.3351314   1.04728884 -0.92378851  0.67313402  0.24707682]\n",
      " [ 1.70392918 -0.17855793  0.00699956  1.59709245 -1.49945933]\n",
      " [ 0.51421879  0.00276678 -0.12491275 -0.80911247 -0.2698407 ]\n",
      " [ 0.93247561 -0.97280436 -0.67208739 -0.10565757  1.02545298]\n",
      " [-1.33464815 -0.63289984  0.49274619  1.32939398 -1.20411891]\n",
      " [-0.08426287  0.72676654 -0.20599709  1.16175583 -0.79118291]\n",
      " [ 0.45820539  0.80178147  1.23257426  0.56590027 -0.49647924]\n",
      " [ 1.5307686  -0.10945965  0.56720451 -1.29741878 -0.09129813]\n",
      " [ 0.65441994  0.52209563  1.43037486  0.5472498   0.02013014]\n",
      " [ 0.16383936  0.13624508  0.50907444 -0.48579022 -0.51533908]\n",
      " [-1.36117454 -0.25440895  0.91234347 -0.45843681 -0.28554234]\n",
      " [-0.53993248 -0.33766263  0.34690335  0.47337956 -0.33513182]\n",
      " [-1.28608116  0.89425704 -0.3551974   0.49039974  0.24487758]\n",
      " [-0.5859596  -0.08288792 -0.71033605 -1.17292127 -0.32093157]\n",
      " [-1.12163143 -0.37894149 -0.92482428 -0.99579439  0.33777897]\n",
      " [-0.8764144  -1.14574534  1.21346352 -0.54684393  0.88232247]\n",
      " [ 0.31282583 -0.38717019 -1.00199862 -1.18302639  0.05783859]\n",
      " [ 0.08104862  0.37606549  0.48259714  0.88096752  0.22486037]\n",
      " [ 0.57723206 -0.15301203  0.67492509 -0.3695463   0.40849781]]\n"
     ]
    }
   ],
   "source": [
    "def train_cbow(corpus, context_target_pairs,W_in,W_out,epochs=200,learning_rate=0.05):\n",
    "    for epoch in range(epochs):\n",
    "        total_loss=0\n",
    "        for context_words,target_word in context_target_pairs:\n",
    "            context_vectors=np.mean(W_in[context_words],axis=0)\n",
    "            predicted_word_vector=np.dot(context_vectors,W_out)\n",
    "            # Compute the softmax function for output layer\n",
    "            exp_scores=np.exp(predicted_word_vector)\n",
    "            probs=exp_scores/np.sum(exp_scores)\n",
    "            # Compute loss\n",
    "            target_vector=np.zeros(vocab_size)\n",
    "            target_vector[target_word]=1\n",
    "            loss= -np.log(probs[target_word])\n",
    "            total_loss +=loss\n",
    "            # Backpropogation\n",
    "            error=probs -target_vector\n",
    "            dW_out= np.outer(context_vectors,error)\n",
    "            dW_in = np.dot(error, W_out.T) / len(context_words)  # Corrected gradient\n",
    "            # Update Weights\n",
    "            W_in[context_words]-= learning_rate * dW_in\n",
    "            W_out -= learning_rate* dW_out\n",
    "    print(f\"Epoch {epoch + 1}/{epochs}, Loss: {total_loss}\")\n",
    "\n",
    "# Train the CBOW model\n",
    "train_cbow(tokenized_corpus, context_target_pairs, W_in, W_out, epochs=100, learning_rate=0.01)\n",
    "\n",
    "# Extract learned word embeddings\n",
    "word_embeddings = W_in\n",
    "print(\"Learned word embeddings:\")\n",
    "print(word_embeddings)"
   ]
  },
  {
   "cell_type": "code",
   "execution_count": 20,
   "id": "5bf4955d",
   "metadata": {
    "execution": {
     "iopub.execute_input": "2025-01-27T18:32:06.482692Z",
     "iopub.status.busy": "2025-01-27T18:32:06.482353Z",
     "iopub.status.idle": "2025-01-27T18:32:07.252823Z",
     "shell.execute_reply": "2025-01-27T18:32:07.251537Z"
    },
    "papermill": {
     "duration": 0.780326,
     "end_time": "2025-01-27T18:32:07.254833",
     "exception": false,
     "start_time": "2025-01-27T18:32:06.474507",
     "status": "completed"
    },
    "tags": []
   },
   "outputs": [
    {
     "data": {
      "image/png": "[encoded data removed]",
      "text/plain": [
       "<Figure size 1000x1000 with 1 Axes>"
      ]
     },
     "metadata": {},
     "output_type": "display_data"
    }
   ],
   "source": [
    "from sklearn.decomposition import PCA\n",
    "import matplotlib.pyplot as plt\n",
    "\n",
    "# Reduce dimensions to 2D for visualization\n",
    "pca = PCA(n_components=2)\n",
    "reduced_embeddings = pca.fit_transform(W_in)\n",
    "\n",
    "# Plot the embeddings\n",
    "plt.figure(figsize=(10, 10))\n",
    "for i, word in enumerate(vocabulary):\n",
    "    plt.scatter(reduced_embeddings[i, 0], reduced_embeddings[i, 1])\n",
    "    plt.annotate(word, (reduced_embeddings[i, 0], reduced_embeddings[i, 1]))\n",
    "plt.title(\"Word Embedding Visualization\")\n",
    "plt.show()\n"
   ]
  },
  {
   "cell_type": "code",
   "execution_count": 21,
   "id": "33001389",
   "metadata": {
    "execution": {
     "iopub.execute_input": "2025-01-27T18:32:07.274727Z",
     "iopub.status.busy": "2025-01-27T18:32:07.274194Z",
     "iopub.status.idle": "2025-01-27T18:32:08.504913Z",
     "shell.execute_reply": "2025-01-27T18:32:08.503613Z"
    },
    "papermill": {
     "duration": 1.243899,
     "end_time": "2025-01-27T18:32:08.507284",
     "exception": false,
     "start_time": "2025-01-27T18:32:07.263385",
     "status": "completed"
    },
    "tags": []
   },
   "outputs": [
    {
     "data": {
      "image/png": "[encoded data removed]",
      "text/plain": [
       "<Figure size 1000x800 with 2 Axes>"
      ]
     },
     "metadata": {},
     "output_type": "display_data"
    }
   ],
   "source": [
    "from sklearn.metrics.pairwise import cosine_similarity\n",
    "import seaborn as sns\n",
    "import numpy as np\n",
    "\n",
    "# Compute cosine similarity matrix\n",
    "similarity_matrix = cosine_similarity(W_in)\n",
    "\n",
    "# Create a heatmap of word similarities\n",
    "plt.figure(figsize=(10, 8))\n",
    "sns.heatmap(similarity_matrix, xticklabels=vocabulary.keys(), yticklabels=vocabulary.keys(), cmap=\"coolwarm\")\n",
    "plt.title(\"Word Similarity Heatmap\")\n",
    "plt.show()\n"
   ]
  },
  {
   "cell_type": "code",
   "execution_count": null,
   "id": "91cc490c",
   "metadata": {
    "papermill": {
     "duration": 0.008489,
     "end_time": "2025-01-27T18:32:08.525587",
     "exception": false,
     "start_time": "2025-01-27T18:32:08.517098",
     "status": "completed"
    },
    "tags": []
   },
   "outputs": [],
   "source": []
  },
  {
   "cell_type": "code",
   "execution_count": null,
   "id": "9d91977d",
   "metadata": {
    "papermill": {
     "duration": 0.009017,
     "end_time": "2025-01-27T18:32:08.543382",
     "exception": false,
     "start_time": "2025-01-27T18:32:08.534365",
     "status": "completed"
    },
    "tags": []
   },
   "outputs": [],
   "source": []
  },
  {
   "cell_type": "code",
   "execution_count": null,
   "id": "10b48ec8",
   "metadata": {
    "papermill": {
     "duration": 0.008766,
     "end_time": "2025-01-27T18:32:08.561161",
     "exception": false,
     "start_time": "2025-01-27T18:32:08.552395",
     "status": "completed"
    },
    "tags": []
   },
   "outputs": [],
   "source": []
  },
  {
   "cell_type": "code",
   "execution_count": null,
   "id": "3755c156",
   "metadata": {
    "papermill": {
     "duration": 0.008654,
     "end_time": "2025-01-27T18:32:08.578784",
     "exception": false,
     "start_time": "2025-01-27T18:32:08.570130",
     "status": "completed"
    },
    "tags": []
   },
   "outputs": [],
   "source": []
  },
  {
   "cell_type": "code",
   "execution_count": null,
   "id": "1ed5ca94",
   "metadata": {
    "papermill": {
     "duration": 0.008896,
     "end_time": "2025-01-27T18:32:08.596608",
     "exception": false,
     "start_time": "2025-01-27T18:32:08.587712",
     "status": "completed"
    },
    "tags": []
   },
   "outputs": [],
   "source": []
  },
  {
   "cell_type": "code",
   "execution_count": null,
   "id": "bb90e7ac",
   "metadata": {
    "papermill": {
     "duration": 0.008638,
     "end_time": "2025-01-27T18:32:08.614295",
     "exception": false,
     "start_time": "2025-01-27T18:32:08.605657",
     "status": "completed"
    },
    "tags": []
   },
   "outputs": [],
   "source": []
  }
 ],
 "metadata": {
  "kaggle": {
   "accelerator": "none",
   "dataSources": [],
   "dockerImageVersionId": 30839,
   "isGpuEnabled": false,
   "isInternetEnabled": true,
   "language": "python",
   "sourceType": "notebook"
  },
  "kernelspec": {
   "display_name": "Python 3",
   "language": "python",
   "name": "python3"
  },
  "language_info": {
   "codemirror_mode": {
    "name": "ipython",
    "version": 3
   },
   "file_extension": ".py",
   "mimetype": "text/x-python",
   "name": "python",
   "nbconvert_exporter": "python",
   "pygments_lexer": "ipython3",
   "version": "3.10.12"
  },
  "papermill": {
   "default_parameters": {},
   "duration": 10.356596,
   "end_time": "2025-01-27T18:32:09.445053",
   "environment_variables": {},
   "exception": null,
   "input_path": "__notebook__.ipynb",
   "output_path": "__notebook__.ipynb",
   "parameters": {},
   "start_time": "2025-01-27T18:31:59.088457",
   "version": "2.6.0"
  }
 },
 "nbformat": 4,
 "nbformat_minor": 5
}
